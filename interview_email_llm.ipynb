{
 "cells": [
  {
   "cell_type": "code",
   "source": [
    "from google.colab import drive\n",
    "drive.mount('/content/gdrive')"
   ],
   "metadata": {
    "colab": {
     "base_uri": "https://localhost:8080/"
    },
    "id": "tW05uQP2HcLG",
    "executionInfo": {
     "status": "ok",
     "timestamp": 1746399552022,
     "user_tz": -600,
     "elapsed": 25410,
     "user": {
      "displayName": "Phuc Minh Son Nguyen",
      "userId": "13821617769224177453"
     }
    },
    "outputId": "d826a25b-ebe9-42be-8de2-97565276d397"
   },
   "id": "tW05uQP2HcLG",
   "execution_count": 1,
   "outputs": [
    {
     "output_type": "stream",
     "name": "stdout",
     "text": [
      "Mounted at /content/gdrive\n"
     ]
    }
   ]
  },
  {
   "cell_type": "code",
   "source": [
    "%cd /content/gdrive/MyDrive/NLP/"
   ],
   "metadata": {
    "colab": {
     "base_uri": "https://localhost:8080/"
    },
    "id": "auJfF41-Hkuu",
    "executionInfo": {
     "status": "ok",
     "timestamp": 1746399554971,
     "user_tz": -600,
     "elapsed": 316,
     "user": {
      "displayName": "Phuc Minh Son Nguyen",
      "userId": "13821617769224177453"
     }
    },
    "outputId": "1c6464fd-230e-4ee1-944e-a2b04a8b822e"
   },
   "id": "auJfF41-Hkuu",
   "execution_count": 2,
   "outputs": [
    {
     "output_type": "stream",
     "name": "stdout",
     "text": [
      "/content/gdrive/MyDrive/NLP\n"
     ]
    }
   ]
  },
  {
   "cell_type": "code",
   "source": [
    "%ls"
   ],
   "metadata": {
    "colab": {
     "base_uri": "https://localhost:8080/"
    },
    "id": "pSL3ObaeHqFL",
    "executionInfo": {
     "status": "ok",
     "timestamp": 1746399556489,
     "user_tz": -600,
     "elapsed": 25,
     "user": {
      "displayName": "Phuc Minh Son Nguyen",
      "userId": "13821617769224177453"
     }
    },
    "outputId": "e63163bd-1b9c-43bd-9952-b667f0f3fb5e"
   },
   "id": "pSL3ObaeHqFL",
   "execution_count": 3,
   "outputs": [
    {
     "output_type": "stream",
     "name": "stdout",
     "text": [
      "\u001B[0m\u001B[01;34memail_dataset\u001B[0m/  gpt_download.py            \u001B[01;34mprocessed\u001B[0m/\n",
      "\u001B[01;34mgpt2\u001B[0m/           interview_email_llm.ipynb  \u001B[01;34m__pycache__\u001B[0m/\n"
     ]
    }
   ]
  },
  {
   "cell_type": "code",
   "source": [
    "!pip install tiktoken"
   ],
   "metadata": {
    "colab": {
     "base_uri": "https://localhost:8080/"
    },
    "id": "LmIl-TTGHuk9",
    "executionInfo": {
     "status": "ok",
     "timestamp": 1746399565852,
     "user_tz": -600,
     "elapsed": 2514,
     "user": {
      "displayName": "Phuc Minh Son Nguyen",
      "userId": "13821617769224177453"
     }
    },
    "outputId": "7df61873-7959-4858-ad85-6349e8a07461"
   },
   "id": "LmIl-TTGHuk9",
   "execution_count": 4,
   "outputs": [
    {
     "output_type": "stream",
     "name": "stdout",
     "text": [
      "Collecting tiktoken\n",
      "  Downloading tiktoken-0.9.0-cp311-cp311-manylinux_2_17_x86_64.manylinux2014_x86_64.whl.metadata (6.7 kB)\n",
      "Requirement already satisfied: regex>=2022.1.18 in /usr/local/lib/python3.11/dist-packages (from tiktoken) (2024.11.6)\n",
      "Requirement already satisfied: requests>=2.26.0 in /usr/local/lib/python3.11/dist-packages (from tiktoken) (2.32.3)\n",
      "Requirement already satisfied: charset-normalizer<4,>=2 in /usr/local/lib/python3.11/dist-packages (from requests>=2.26.0->tiktoken) (3.4.1)\n",
      "Requirement already satisfied: idna<4,>=2.5 in /usr/local/lib/python3.11/dist-packages (from requests>=2.26.0->tiktoken) (3.10)\n",
      "Requirement already satisfied: urllib3<3,>=1.21.1 in /usr/local/lib/python3.11/dist-packages (from requests>=2.26.0->tiktoken) (2.4.0)\n",
      "Requirement already satisfied: certifi>=2017.4.17 in /usr/local/lib/python3.11/dist-packages (from requests>=2.26.0->tiktoken) (2025.4.26)\n",
      "Downloading tiktoken-0.9.0-cp311-cp311-manylinux_2_17_x86_64.manylinux2014_x86_64.whl (1.2 MB)\n",
      "\u001B[?25l   \u001B[90m━━━━━━━━━━━━━━━━━━━━━━━━━━━━━━━━━━━━━━━━\u001B[0m \u001B[32m0.0/1.2 MB\u001B[0m \u001B[31m?\u001B[0m eta \u001B[36m-:--:--\u001B[0m\r\u001B[2K   \u001B[91m━━━━━━━━━━━━━━━━━━━━━━━━━━━━━━━━━━━━━━━\u001B[0m\u001B[91m╸\u001B[0m \u001B[32m1.2/1.2 MB\u001B[0m \u001B[31m115.9 MB/s\u001B[0m eta \u001B[36m0:00:01\u001B[0m\r\u001B[2K   \u001B[90m━━━━━━━━━━━━━━━━━━━━━━━━━━━━━━━━━━━━━━━━\u001B[0m \u001B[32m1.2/1.2 MB\u001B[0m \u001B[31m33.2 MB/s\u001B[0m eta \u001B[36m0:00:00\u001B[0m\n",
      "\u001B[?25hInstalling collected packages: tiktoken\n",
      "Successfully installed tiktoken-0.9.0\n"
     ]
    }
   ]
  },
  {
   "cell_type": "code",
   "id": "initial_id",
   "metadata": {
    "collapsed": true,
    "ExecuteTime": {
     "end_time": "2025-05-04T11:09:55.081666Z",
     "start_time": "2025-05-04T11:09:55.012592Z"
    },
    "id": "initial_id",
    "executionInfo": {
     "status": "ok",
     "timestamp": 1746399577424,
     "user_tz": -600,
     "elapsed": 6243,
     "user": {
      "displayName": "Phuc Minh Son Nguyen",
      "userId": "13821617769224177453"
     }
    }
   },
   "source": [
    "import numpy as np\n",
    "import tiktoken\n",
    "import torch\n",
    "import torch.nn as nn\n",
    "from torch.utils.data import Dataset, DataLoader\n",
    "\n",
    "\n",
    "\n",
    "class GPTDatasetV1(Dataset):\n",
    "    def __init__(self, txt, tokenizer, max_length, stride):\n",
    "        self.input_ids = []\n",
    "        self.target_ids = []\n",
    "\n",
    "        # Tokenize the entire text\n",
    "        token_ids = tokenizer.encode(txt, allowed_special={\"<|endoftext|>\"})\n",
    "\n",
    "        # Use a sliding window to chunk the book into overlapping sequences of max_length\n",
    "        for i in range(0, len(token_ids) - max_length, stride):\n",
    "            input_chunk = token_ids[i:i + max_length]\n",
    "            target_chunk = token_ids[i + 1: i + max_length + 1]\n",
    "            self.input_ids.append(torch.tensor(input_chunk))\n",
    "            self.target_ids.append(torch.tensor(target_chunk))\n",
    "\n",
    "    def __len__(self):\n",
    "        return len(self.input_ids)\n",
    "\n",
    "    def __getitem__(self, idx):\n",
    "        return self.input_ids[idx], self.target_ids[idx]\n",
    "\n",
    "\n",
    "def create_dataloader_v1(txt, batch_size=4, max_length=256,\n",
    "                         stride=128, shuffle=True, drop_last=True, num_workers=0):\n",
    "    # Initialize the tokenizer\n",
    "    tokenizer = tiktoken.get_encoding(\"gpt2\")\n",
    "\n",
    "    # Create dataset\n",
    "    dataset = GPTDatasetV1(txt, tokenizer, max_length, stride)\n",
    "\n",
    "    # Create dataloader\n",
    "    dataloader = DataLoader(\n",
    "        dataset, batch_size=batch_size, shuffle=shuffle, drop_last=drop_last, num_workers=num_workers)\n",
    "\n",
    "    return dataloader\n",
    "\n",
    "\n",
    "class MultiHeadAttention(nn.Module):\n",
    "    def __init__(self, d_in, d_out, context_length, dropout, num_heads, qkv_bias=False):\n",
    "        super().__init__()\n",
    "        assert d_out % num_heads == 0, \"d_out must be divisible by n_heads\"\n",
    "\n",
    "        self.d_out = d_out\n",
    "        self.num_heads = num_heads\n",
    "        self.head_dim = d_out // num_heads  # Reduce the projection dim to match desired output dim\n",
    "\n",
    "        self.W_query = nn.Linear(d_in, d_out, bias=qkv_bias)\n",
    "        self.W_key = nn.Linear(d_in, d_out, bias=qkv_bias)\n",
    "        self.W_value = nn.Linear(d_in, d_out, bias=qkv_bias)\n",
    "        self.out_proj = nn.Linear(d_out, d_out)  # Linear layer to combine head outputs\n",
    "        self.dropout = nn.Dropout(dropout)\n",
    "        self.register_buffer('mask', torch.triu(torch.ones(context_length, context_length), diagonal=1))\n",
    "\n",
    "    def forward(self, x):\n",
    "        b, num_tokens, d_in = x.shape\n",
    "\n",
    "        keys = self.W_key(x)  # Shape: (b, num_tokens, d_out)\n",
    "        queries = self.W_query(x)\n",
    "        values = self.W_value(x)\n",
    "\n",
    "        # We implicitly split the matrix by adding a `num_heads` dimension\n",
    "        # Unroll last dim: (b, num_tokens, d_out) -> (b, num_tokens, num_heads, head_dim)\n",
    "        keys = keys.view(b, num_tokens, self.num_heads, self.head_dim)\n",
    "        values = values.view(b, num_tokens, self.num_heads, self.head_dim)\n",
    "        queries = queries.view(b, num_tokens, self.num_heads, self.head_dim)\n",
    "\n",
    "        # Transpose: (b, num_tokens, num_heads, head_dim) -> (b, num_heads, num_tokens, head_dim)\n",
    "        keys = keys.transpose(1, 2)\n",
    "        queries = queries.transpose(1, 2)\n",
    "        values = values.transpose(1, 2)\n",
    "\n",
    "        # Compute scaled dot-product attention (aka self-attention) with a causal mask\n",
    "        attn_scores = queries @ keys.transpose(2, 3)  # Dot product for each head\n",
    "\n",
    "        # Original mask truncated to the number of tokens and converted to boolean\n",
    "        mask_bool = self.mask.bool()[:num_tokens, :num_tokens]\n",
    "\n",
    "        # Use the mask to fill attention scores\n",
    "        attn_scores.masked_fill_(mask_bool, -torch.inf)\n",
    "\n",
    "        attn_weights = torch.softmax(attn_scores / keys.shape[-1]**0.5, dim=-1)\n",
    "        attn_weights = self.dropout(attn_weights)\n",
    "\n",
    "        # Shape: (b, num_tokens, num_heads, head_dim)\n",
    "        context_vec = (attn_weights @ values).transpose(1, 2)\n",
    "\n",
    "        # Combine heads, where self.d_out = self.num_heads * self.head_dim\n",
    "        context_vec = context_vec.reshape(b, num_tokens, self.d_out)\n",
    "        context_vec = self.out_proj(context_vec)  # optional projection\n",
    "\n",
    "        return context_vec\n",
    "\n",
    "\n",
    "class LayerNorm(nn.Module):\n",
    "    def __init__(self, emb_dim):\n",
    "        super().__init__()\n",
    "        self.eps = 1e-5\n",
    "        self.scale = nn.Parameter(torch.ones(emb_dim))\n",
    "        self.shift = nn.Parameter(torch.zeros(emb_dim))\n",
    "\n",
    "    def forward(self, x):\n",
    "        mean = x.mean(dim=-1, keepdim=True)\n",
    "        var = x.var(dim=-1, keepdim=True, unbiased=False)\n",
    "        norm_x = (x - mean) / torch.sqrt(var + self.eps)\n",
    "        return self.scale * norm_x + self.shift\n",
    "\n",
    "\n",
    "class GELU(nn.Module):\n",
    "    def __init__(self):\n",
    "        super().__init__()\n",
    "\n",
    "    def forward(self, x):\n",
    "        return 0.5 * x * (1 + torch.tanh(\n",
    "            torch.sqrt(torch.tensor(2.0 / torch.pi)) *\n",
    "            (x + 0.044715 * torch.pow(x, 3))\n",
    "        ))\n",
    "\n",
    "\n",
    "class FeedForward(nn.Module):\n",
    "    def __init__(self, cfg):\n",
    "        super().__init__()\n",
    "        self.layers = nn.Sequential(\n",
    "            nn.Linear(cfg[\"emb_dim\"], 4 * cfg[\"emb_dim\"]),\n",
    "            GELU(),\n",
    "            nn.Linear(4 * cfg[\"emb_dim\"], cfg[\"emb_dim\"]),\n",
    "        )\n",
    "\n",
    "    def forward(self, x):\n",
    "        return self.layers(x)\n",
    "\n",
    "\n",
    "class TransformerBlock(nn.Module):\n",
    "    def __init__(self, cfg):\n",
    "        super().__init__()\n",
    "        self.att = MultiHeadAttention(\n",
    "            d_in=cfg[\"emb_dim\"],\n",
    "            d_out=cfg[\"emb_dim\"],\n",
    "            context_length=cfg[\"context_length\"],\n",
    "            num_heads=cfg[\"n_heads\"],\n",
    "            dropout=cfg[\"drop_rate\"],\n",
    "            qkv_bias=cfg[\"qkv_bias\"])\n",
    "        self.ff = FeedForward(cfg)\n",
    "        self.norm1 = LayerNorm(cfg[\"emb_dim\"])\n",
    "        self.norm2 = LayerNorm(cfg[\"emb_dim\"])\n",
    "        self.drop_resid = nn.Dropout(cfg[\"drop_rate\"])\n",
    "\n",
    "    def forward(self, x):\n",
    "        # Shortcut connection for attention block\n",
    "        shortcut = x\n",
    "        x = self.norm1(x)\n",
    "        x = self.att(x)   # Shape [batch_size, num_tokens, emb_size]\n",
    "        x = self.drop_resid(x)\n",
    "        x = x + shortcut  # Add the original input back\n",
    "\n",
    "        # Shortcut connection for feed-forward block\n",
    "        shortcut = x\n",
    "        x = self.norm2(x)\n",
    "        x = self.ff(x)\n",
    "        x = self.drop_resid(x)\n",
    "        x = x + shortcut  # Add the original input back\n",
    "\n",
    "        return x\n",
    "\n",
    "\n",
    "class GPTModel(nn.Module):\n",
    "    def __init__(self, cfg):\n",
    "        super().__init__()\n",
    "        self.tok_emb = nn.Embedding(cfg[\"vocab_size\"], cfg[\"emb_dim\"])\n",
    "        self.pos_emb = nn.Embedding(cfg[\"context_length\"], cfg[\"emb_dim\"])\n",
    "        self.drop_emb = nn.Dropout(cfg[\"drop_rate\"])\n",
    "\n",
    "        self.trf_blocks = nn.Sequential(\n",
    "            *[TransformerBlock(cfg) for _ in range(cfg[\"n_layers\"])])\n",
    "\n",
    "        self.final_norm = LayerNorm(cfg[\"emb_dim\"])\n",
    "        self.out_head = nn.Linear(cfg[\"emb_dim\"], cfg[\"vocab_size\"], bias=False)\n",
    "\n",
    "    def forward(self, in_idx):\n",
    "        batch_size, seq_len = in_idx.shape\n",
    "        tok_embeds = self.tok_emb(in_idx)\n",
    "        pos_embeds = self.pos_emb(torch.arange(seq_len, device=in_idx.device))\n",
    "        x = tok_embeds + pos_embeds  # Shape [batch_size, num_tokens, emb_size]\n",
    "        x = self.drop_emb(x)\n",
    "        x = self.trf_blocks(x)\n",
    "        x = self.final_norm(x)\n",
    "        logits = self.out_head(x)\n",
    "        return logits\n",
    "\n",
    "\n",
    "def generate_text_simple(model, idx, max_new_tokens, context_size):\n",
    "    # idx is (B, T) array of indices in the current context\n",
    "    for _ in range(max_new_tokens):\n",
    "\n",
    "        # Crop current context if it exceeds the supported context size\n",
    "        # E.g., if LLM supports only 5 tokens, and the context size is 10\n",
    "        # then only the last 5 tokens are used as context\n",
    "        idx_cond = idx[:, -context_size:]\n",
    "\n",
    "        # Get the predictions\n",
    "        with torch.no_grad():\n",
    "            logits = model(idx_cond)\n",
    "\n",
    "        # Focus only on the last time step\n",
    "        # (batch, n_token, vocab_size) becomes (batch, vocab_size)\n",
    "        logits = logits[:, -1, :]\n",
    "\n",
    "        # Get the idx of the vocab entry with the highest logits value\n",
    "        idx_next = torch.argmax(logits, dim=-1, keepdim=True)  # (batch, 1)\n",
    "\n",
    "        # Append sampled index to the running sequence\n",
    "        idx = torch.cat((idx, idx_next), dim=1)  # (batch, n_tokens+1)\n",
    "\n",
    "    return idx\n",
    "\n",
    "\n",
    "def assign(left, right):\n",
    "    if left.shape != right.shape:\n",
    "        raise ValueError(f\"Shape mismatch. Left: {left.shape}, Right: {right.shape}\")\n",
    "    return torch.nn.Parameter(torch.tensor(right))\n",
    "\n",
    "\n",
    "def load_weights_into_gpt(gpt, params):\n",
    "    gpt.pos_emb.weight = assign(gpt.pos_emb.weight, params['wpe'])\n",
    "    gpt.tok_emb.weight = assign(gpt.tok_emb.weight, params['wte'])\n",
    "\n",
    "    for b in range(len(params[\"blocks\"])):\n",
    "        q_w, k_w, v_w = np.split(\n",
    "            (params[\"blocks\"][b][\"attn\"][\"c_attn\"])[\"w\"], 3, axis=-1)\n",
    "        gpt.trf_blocks[b].att.W_query.weight = assign(\n",
    "            gpt.trf_blocks[b].att.W_query.weight, q_w.T)\n",
    "        gpt.trf_blocks[b].att.W_key.weight = assign(\n",
    "            gpt.trf_blocks[b].att.W_key.weight, k_w.T)\n",
    "        gpt.trf_blocks[b].att.W_value.weight = assign(\n",
    "            gpt.trf_blocks[b].att.W_value.weight, v_w.T)\n",
    "\n",
    "        q_b, k_b, v_b = np.split(\n",
    "            (params[\"blocks\"][b][\"attn\"][\"c_attn\"])[\"b\"], 3, axis=-1)\n",
    "        gpt.trf_blocks[b].att.W_query.bias = assign(\n",
    "            gpt.trf_blocks[b].att.W_query.bias, q_b)\n",
    "        gpt.trf_blocks[b].att.W_key.bias = assign(\n",
    "            gpt.trf_blocks[b].att.W_key.bias, k_b)\n",
    "        gpt.trf_blocks[b].att.W_value.bias = assign(\n",
    "            gpt.trf_blocks[b].att.W_value.bias, v_b)\n",
    "\n",
    "        gpt.trf_blocks[b].att.out_proj.weight = assign(\n",
    "            gpt.trf_blocks[b].att.out_proj.weight,\n",
    "            params[\"blocks\"][b][\"attn\"][\"c_proj\"][\"w\"].T)\n",
    "        gpt.trf_blocks[b].att.out_proj.bias = assign(\n",
    "            gpt.trf_blocks[b].att.out_proj.bias,\n",
    "            params[\"blocks\"][b][\"attn\"][\"c_proj\"][\"b\"])\n",
    "\n",
    "        gpt.trf_blocks[b].ff.layers[0].weight = assign(\n",
    "            gpt.trf_blocks[b].ff.layers[0].weight,\n",
    "            params[\"blocks\"][b][\"mlp\"][\"c_fc\"][\"w\"].T)\n",
    "        gpt.trf_blocks[b].ff.layers[0].bias = assign(\n",
    "            gpt.trf_blocks[b].ff.layers[0].bias,\n",
    "            params[\"blocks\"][b][\"mlp\"][\"c_fc\"][\"b\"])\n",
    "        gpt.trf_blocks[b].ff.layers[2].weight = assign(\n",
    "            gpt.trf_blocks[b].ff.layers[2].weight,\n",
    "            params[\"blocks\"][b][\"mlp\"][\"c_proj\"][\"w\"].T)\n",
    "        gpt.trf_blocks[b].ff.layers[2].bias = assign(\n",
    "            gpt.trf_blocks[b].ff.layers[2].bias,\n",
    "            params[\"blocks\"][b][\"mlp\"][\"c_proj\"][\"b\"])\n",
    "\n",
    "        gpt.trf_blocks[b].norm1.scale = assign(\n",
    "            gpt.trf_blocks[b].norm1.scale,\n",
    "            params[\"blocks\"][b][\"ln_1\"][\"g\"])\n",
    "        gpt.trf_blocks[b].norm1.shift = assign(\n",
    "            gpt.trf_blocks[b].norm1.shift,\n",
    "            params[\"blocks\"][b][\"ln_1\"][\"b\"])\n",
    "        gpt.trf_blocks[b].norm2.scale = assign(\n",
    "            gpt.trf_blocks[b].norm2.scale,\n",
    "            params[\"blocks\"][b][\"ln_2\"][\"g\"])\n",
    "        gpt.trf_blocks[b].norm2.shift = assign(\n",
    "            gpt.trf_blocks[b].norm2.shift,\n",
    "            params[\"blocks\"][b][\"ln_2\"][\"b\"])\n",
    "\n",
    "    gpt.final_norm.scale = assign(gpt.final_norm.scale, params[\"g\"])\n",
    "    gpt.final_norm.shift = assign(gpt.final_norm.shift, params[\"b\"])\n",
    "    gpt.out_head.weight = assign(gpt.out_head.weight, params[\"wte\"])\n",
    "\n",
    "\n",
    "def text_to_token_ids(text, tokenizer):\n",
    "    encoded = tokenizer.encode(text, allowed_special={'<|endoftext|>'})\n",
    "    encoded_tensor = torch.tensor(encoded).unsqueeze(0)  # add batch dimension\n",
    "    return encoded_tensor\n",
    "\n",
    "\n",
    "def token_ids_to_text(token_ids, tokenizer):\n",
    "    flat = token_ids.squeeze(0)  # remove batch dimension\n",
    "    return tokenizer.decode(flat.tolist())\n"
   ],
   "outputs": [],
   "execution_count": 5
  },
  {
   "metadata": {
    "ExecuteTime": {
     "end_time": "2025-05-04T11:09:57.720472Z",
     "start_time": "2025-05-04T11:09:57.699329Z"
    },
    "colab": {
     "base_uri": "https://localhost:8080/"
    },
    "id": "2876ebe604135aba",
    "executionInfo": {
     "status": "ok",
     "timestamp": 1746399584057,
     "user_tz": -600,
     "elapsed": 32,
     "user": {
      "displayName": "Phuc Minh Son Nguyen",
      "userId": "13821617769224177453"
     }
    },
    "outputId": "aee7eae0-4e43-4d9c-9978-5d7da4a5871d"
   },
   "cell_type": "code",
   "source": [
    "from importlib.metadata import version\n",
    "\n",
    "pkgs = [\"matplotlib\",  # Plotting library\n",
    "        \"numpy\",       # PyTorch & TensorFlow dependency\n",
    "        \"tiktoken\",    # Tokenizer\n",
    "        \"torch\",       # Deep learning library\n",
    "        \"tensorflow\",  # For OpenAI's pretrained weights\n",
    "        \"pandas\"       # Dataset loading\n",
    "       ]\n",
    "for p in pkgs:\n",
    "    print(f\"{p} version: {version(p)}\")"
   ],
   "id": "2876ebe604135aba",
   "outputs": [
    {
     "output_type": "stream",
     "name": "stdout",
     "text": [
      "matplotlib version: 3.10.0\n",
      "numpy version: 2.0.2\n",
      "tiktoken version: 0.9.0\n",
      "torch version: 2.6.0+cu124\n",
      "tensorflow version: 2.18.0\n",
      "pandas version: 2.2.2\n"
     ]
    }
   ],
   "execution_count": 6
  },
  {
   "metadata": {
    "ExecuteTime": {
     "end_time": "2025-05-04T11:12:28.724226Z",
     "start_time": "2025-05-04T11:12:28.602141Z"
    },
    "colab": {
     "base_uri": "https://localhost:8080/"
    },
    "id": "7972bbaafa0d19b3",
    "executionInfo": {
     "status": "ok",
     "timestamp": 1746359981274,
     "user_tz": -600,
     "elapsed": 733880,
     "user": {
      "displayName": "Phuc Minh Son Nguyen",
      "userId": "13821617769224177453"
     }
    },
    "outputId": "4567805d-13ff-4ba4-e562-cae99501f8e5"
   },
   "cell_type": "code",
   "source": [
    "import pandas as pd\n",
    "from pathlib import Path\n",
    "\n",
    "# Set the base path\n",
    "base_path = Path(\"email_dataset\")\n",
    "\n",
    "# Load the label.csv file\n",
    "df = pd.read_csv(base_path / \"label.csv\", names=[\"Filename\", \"Label\"], header=0, encoding='utf-8')\n",
    "\n",
    "# Read each email file and store content in a new column 'Text'\n",
    "df[\"Text\"] = df[\"Filename\"].apply(lambda fname: (base_path / fname).read_text(encoding=\"utf-8\"))\n",
    "\n",
    "# Optionally drop the 'Filename' column if you only want Label and Text\n",
    "df = df[[\"Label\", \"Text\"]]\n",
    "\n",
    "# View result\n",
    "print(df.head())"
   ],
   "id": "7972bbaafa0d19b3",
   "outputs": [
    {
     "output_type": "stream",
     "name": "stdout",
     "text": [
      "   Label                                               Text\n",
      "0      1  Hi Michael Gary Scott,\\nThank you for applying...\n",
      "1      1  Subject: Congratulations – Offer for Frontend ...\n",
      "2      1  Subject: Congratulations – Offer for AI Resear...\n",
      "3      1  Hello Michael Gary Scott\\nCongratulations! You...\n",
      "4      1  Subject: Final Decision – You Passed the Inter...\n"
     ]
    }
   ],
   "execution_count": null
  },
  {
   "metadata": {
    "ExecuteTime": {
     "end_time": "2025-05-04T11:12:31.398187Z",
     "start_time": "2025-05-04T11:12:31.387668Z"
    },
    "colab": {
     "base_uri": "https://localhost:8080/"
    },
    "id": "91c9713850a5912b",
    "executionInfo": {
     "status": "ok",
     "timestamp": 1746360077658,
     "user_tz": -600,
     "elapsed": 32,
     "user": {
      "displayName": "Phuc Minh Son Nguyen",
      "userId": "13821617769224177453"
     }
    },
    "outputId": "d34a14d0-156b-4434-db2a-45c587318aaf"
   },
   "cell_type": "code",
   "source": [
    "print(df[\"Label\"].value_counts())"
   ],
   "id": "91c9713850a5912b",
   "outputs": [
    {
     "output_type": "stream",
     "name": "stdout",
     "text": [
      "Label\n",
      "0    500\n",
      "1    499\n",
      "Name: count, dtype: int64\n"
     ]
    }
   ],
   "execution_count": null
  },
  {
   "metadata": {
    "ExecuteTime": {
     "end_time": "2025-05-04T11:12:33.531567Z",
     "start_time": "2025-05-04T11:12:33.505578Z"
    },
    "colab": {
     "base_uri": "https://localhost:8080/"
    },
    "id": "83a8e4c3a06a0c47",
    "executionInfo": {
     "status": "ok",
     "timestamp": 1746360080279,
     "user_tz": -600,
     "elapsed": 14,
     "user": {
      "displayName": "Phuc Minh Son Nguyen",
      "userId": "13821617769224177453"
     }
    },
    "outputId": "878adf7e-10f8-4621-b58e-86d727caec60"
   },
   "cell_type": "code",
   "source": [
    "import pandas as pd\n",
    "\n",
    "def create_balanced_dataset(df):\n",
    "    # Find the smallest class count\n",
    "    min_count = df['Label'].value_counts().min()\n",
    "\n",
    "    # Sample min_count rows from each class to balance\n",
    "    balanced_df = df.groupby('Label').sample(n=min_count, random_state=42)\n",
    "\n",
    "    # Shuffle the result (optional)\n",
    "    return balanced_df.sample(frac=1, random_state=42).reset_index(drop=True)\n",
    "\n",
    "# Usage:\n",
    "balanced_df = create_balanced_dataset(df)\n",
    "print(balanced_df[\"Label\"].value_counts())\n"
   ],
   "id": "83a8e4c3a06a0c47",
   "outputs": [
    {
     "output_type": "stream",
     "name": "stdout",
     "text": [
      "Label\n",
      "0    499\n",
      "1    499\n",
      "Name: count, dtype: int64\n"
     ]
    }
   ],
   "execution_count": null
  },
  {
   "metadata": {
    "ExecuteTime": {
     "end_time": "2025-05-04T11:10:10.333849Z",
     "start_time": "2025-05-04T11:10:10.315445Z"
    },
    "colab": {
     "base_uri": "https://localhost:8080/",
     "height": 423
    },
    "id": "72ba002b50a1aae0",
    "executionInfo": {
     "status": "ok",
     "timestamp": 1746360082601,
     "user_tz": -600,
     "elapsed": 53,
     "user": {
      "displayName": "Phuc Minh Son Nguyen",
      "userId": "13821617769224177453"
     }
    },
    "outputId": "04add7b1-289c-45f9-9868-a511e2588036"
   },
   "cell_type": "code",
   "source": [
    "balanced_df"
   ],
   "id": "72ba002b50a1aae0",
   "outputs": [
    {
     "output_type": "execute_result",
     "data": {
      "text/plain": [
       "     Label                                               Text\n",
       "0        0  Hello Michael Gary Scott,\\nThank you for your ...\n",
       "1        1  Subject: Interview Success – AI Researcher at ...\n",
       "2        0  Subject: Interview Decision – Data Analyst at ...\n",
       "3        0  Subject: Interview Decision – AI Researcher at...\n",
       "4        1  Subject: Interview Success – UI/UX Designer at...\n",
       "..     ...                                                ...\n",
       "993      0  Subject: Interview Decision – UI/UX Designer a...\n",
       "994      0  Subject: Interview Decision – AI Researcher at...\n",
       "995      1  Subject: Interview Success – IT Support Specia...\n",
       "996      0  Subject: Interview Decision – AI Researcher at...\n",
       "997      0  Your application to Data Analyst at Mark Cuban...\n",
       "\n",
       "[998 rows x 2 columns]"
      ],
      "text/html": [
       "\n",
       "  <div id=\"df-628ab254-b860-418f-8ccf-345dca786064\" class=\"colab-df-container\">\n",
       "    <div>\n",
       "<style scoped>\n",
       "    .dataframe tbody tr th:only-of-type {\n",
       "        vertical-align: middle;\n",
       "    }\n",
       "\n",
       "    .dataframe tbody tr th {\n",
       "        vertical-align: top;\n",
       "    }\n",
       "\n",
       "    .dataframe thead th {\n",
       "        text-align: right;\n",
       "    }\n",
       "</style>\n",
       "<table border=\"1\" class=\"dataframe\">\n",
       "  <thead>\n",
       "    <tr style=\"text-align: right;\">\n",
       "      <th></th>\n",
       "      <th>Label</th>\n",
       "      <th>Text</th>\n",
       "    </tr>\n",
       "  </thead>\n",
       "  <tbody>\n",
       "    <tr>\n",
       "      <th>0</th>\n",
       "      <td>0</td>\n",
       "      <td>Hello Michael Gary Scott,\\nThank you for your ...</td>\n",
       "    </tr>\n",
       "    <tr>\n",
       "      <th>1</th>\n",
       "      <td>1</td>\n",
       "      <td>Subject: Interview Success – AI Researcher at ...</td>\n",
       "    </tr>\n",
       "    <tr>\n",
       "      <th>2</th>\n",
       "      <td>0</td>\n",
       "      <td>Subject: Interview Decision – Data Analyst at ...</td>\n",
       "    </tr>\n",
       "    <tr>\n",
       "      <th>3</th>\n",
       "      <td>0</td>\n",
       "      <td>Subject: Interview Decision – AI Researcher at...</td>\n",
       "    </tr>\n",
       "    <tr>\n",
       "      <th>4</th>\n",
       "      <td>1</td>\n",
       "      <td>Subject: Interview Success – UI/UX Designer at...</td>\n",
       "    </tr>\n",
       "    <tr>\n",
       "      <th>...</th>\n",
       "      <td>...</td>\n",
       "      <td>...</td>\n",
       "    </tr>\n",
       "    <tr>\n",
       "      <th>993</th>\n",
       "      <td>0</td>\n",
       "      <td>Subject: Interview Decision – UI/UX Designer a...</td>\n",
       "    </tr>\n",
       "    <tr>\n",
       "      <th>994</th>\n",
       "      <td>0</td>\n",
       "      <td>Subject: Interview Decision – AI Researcher at...</td>\n",
       "    </tr>\n",
       "    <tr>\n",
       "      <th>995</th>\n",
       "      <td>1</td>\n",
       "      <td>Subject: Interview Success – IT Support Specia...</td>\n",
       "    </tr>\n",
       "    <tr>\n",
       "      <th>996</th>\n",
       "      <td>0</td>\n",
       "      <td>Subject: Interview Decision – AI Researcher at...</td>\n",
       "    </tr>\n",
       "    <tr>\n",
       "      <th>997</th>\n",
       "      <td>0</td>\n",
       "      <td>Your application to Data Analyst at Mark Cuban...</td>\n",
       "    </tr>\n",
       "  </tbody>\n",
       "</table>\n",
       "<p>998 rows × 2 columns</p>\n",
       "</div>\n",
       "    <div class=\"colab-df-buttons\">\n",
       "\n",
       "  <div class=\"colab-df-container\">\n",
       "    <button class=\"colab-df-convert\" onclick=\"convertToInteractive('df-628ab254-b860-418f-8ccf-345dca786064')\"\n",
       "            title=\"Convert this dataframe to an interactive table.\"\n",
       "            style=\"display:none;\">\n",
       "\n",
       "  <svg xmlns=\"http://www.w3.org/2000/svg\" height=\"24px\" viewBox=\"0 -960 960 960\">\n",
       "    <path d=\"M120-120v-720h720v720H120Zm60-500h600v-160H180v160Zm220 220h160v-160H400v160Zm0 220h160v-160H400v160ZM180-400h160v-160H180v160Zm440 0h160v-160H620v160ZM180-180h160v-160H180v160Zm440 0h160v-160H620v160Z\"/>\n",
       "  </svg>\n",
       "    </button>\n",
       "\n",
       "  <style>\n",
       "    .colab-df-container {\n",
       "      display:flex;\n",
       "      gap: 12px;\n",
       "    }\n",
       "\n",
       "    .colab-df-convert {\n",
       "      background-color: #E8F0FE;\n",
       "      border: none;\n",
       "      border-radius: 50%;\n",
       "      cursor: pointer;\n",
       "      display: none;\n",
       "      fill: #1967D2;\n",
       "      height: 32px;\n",
       "      padding: 0 0 0 0;\n",
       "      width: 32px;\n",
       "    }\n",
       "\n",
       "    .colab-df-convert:hover {\n",
       "      background-color: #E2EBFA;\n",
       "      box-shadow: 0px 1px 2px rgba(60, 64, 67, 0.3), 0px 1px 3px 1px rgba(60, 64, 67, 0.15);\n",
       "      fill: #174EA6;\n",
       "    }\n",
       "\n",
       "    .colab-df-buttons div {\n",
       "      margin-bottom: 4px;\n",
       "    }\n",
       "\n",
       "    [theme=dark] .colab-df-convert {\n",
       "      background-color: #3B4455;\n",
       "      fill: #D2E3FC;\n",
       "    }\n",
       "\n",
       "    [theme=dark] .colab-df-convert:hover {\n",
       "      background-color: #434B5C;\n",
       "      box-shadow: 0px 1px 3px 1px rgba(0, 0, 0, 0.15);\n",
       "      filter: drop-shadow(0px 1px 2px rgba(0, 0, 0, 0.3));\n",
       "      fill: #FFFFFF;\n",
       "    }\n",
       "  </style>\n",
       "\n",
       "    <script>\n",
       "      const buttonEl =\n",
       "        document.querySelector('#df-628ab254-b860-418f-8ccf-345dca786064 button.colab-df-convert');\n",
       "      buttonEl.style.display =\n",
       "        google.colab.kernel.accessAllowed ? 'block' : 'none';\n",
       "\n",
       "      async function convertToInteractive(key) {\n",
       "        const element = document.querySelector('#df-628ab254-b860-418f-8ccf-345dca786064');\n",
       "        const dataTable =\n",
       "          await google.colab.kernel.invokeFunction('convertToInteractive',\n",
       "                                                    [key], {});\n",
       "        if (!dataTable) return;\n",
       "\n",
       "        const docLinkHtml = 'Like what you see? Visit the ' +\n",
       "          '<a target=\"_blank\" href=https://colab.research.google.com/notebooks/data_table.ipynb>data table notebook</a>'\n",
       "          + ' to learn more about interactive tables.';\n",
       "        element.innerHTML = '';\n",
       "        dataTable['output_type'] = 'display_data';\n",
       "        await google.colab.output.renderOutput(dataTable, element);\n",
       "        const docLink = document.createElement('div');\n",
       "        docLink.innerHTML = docLinkHtml;\n",
       "        element.appendChild(docLink);\n",
       "      }\n",
       "    </script>\n",
       "  </div>\n",
       "\n",
       "\n",
       "    <div id=\"df-2d8197be-153d-4309-b141-efc6263933bd\">\n",
       "      <button class=\"colab-df-quickchart\" onclick=\"quickchart('df-2d8197be-153d-4309-b141-efc6263933bd')\"\n",
       "                title=\"Suggest charts\"\n",
       "                style=\"display:none;\">\n",
       "\n",
       "<svg xmlns=\"http://www.w3.org/2000/svg\" height=\"24px\"viewBox=\"0 0 24 24\"\n",
       "     width=\"24px\">\n",
       "    <g>\n",
       "        <path d=\"M19 3H5c-1.1 0-2 .9-2 2v14c0 1.1.9 2 2 2h14c1.1 0 2-.9 2-2V5c0-1.1-.9-2-2-2zM9 17H7v-7h2v7zm4 0h-2V7h2v10zm4 0h-2v-4h2v4z\"/>\n",
       "    </g>\n",
       "</svg>\n",
       "      </button>\n",
       "\n",
       "<style>\n",
       "  .colab-df-quickchart {\n",
       "      --bg-color: #E8F0FE;\n",
       "      --fill-color: #1967D2;\n",
       "      --hover-bg-color: #E2EBFA;\n",
       "      --hover-fill-color: #174EA6;\n",
       "      --disabled-fill-color: #AAA;\n",
       "      --disabled-bg-color: #DDD;\n",
       "  }\n",
       "\n",
       "  [theme=dark] .colab-df-quickchart {\n",
       "      --bg-color: #3B4455;\n",
       "      --fill-color: #D2E3FC;\n",
       "      --hover-bg-color: #434B5C;\n",
       "      --hover-fill-color: #FFFFFF;\n",
       "      --disabled-bg-color: #3B4455;\n",
       "      --disabled-fill-color: #666;\n",
       "  }\n",
       "\n",
       "  .colab-df-quickchart {\n",
       "    background-color: var(--bg-color);\n",
       "    border: none;\n",
       "    border-radius: 50%;\n",
       "    cursor: pointer;\n",
       "    display: none;\n",
       "    fill: var(--fill-color);\n",
       "    height: 32px;\n",
       "    padding: 0;\n",
       "    width: 32px;\n",
       "  }\n",
       "\n",
       "  .colab-df-quickchart:hover {\n",
       "    background-color: var(--hover-bg-color);\n",
       "    box-shadow: 0 1px 2px rgba(60, 64, 67, 0.3), 0 1px 3px 1px rgba(60, 64, 67, 0.15);\n",
       "    fill: var(--button-hover-fill-color);\n",
       "  }\n",
       "\n",
       "  .colab-df-quickchart-complete:disabled,\n",
       "  .colab-df-quickchart-complete:disabled:hover {\n",
       "    background-color: var(--disabled-bg-color);\n",
       "    fill: var(--disabled-fill-color);\n",
       "    box-shadow: none;\n",
       "  }\n",
       "\n",
       "  .colab-df-spinner {\n",
       "    border: 2px solid var(--fill-color);\n",
       "    border-color: transparent;\n",
       "    border-bottom-color: var(--fill-color);\n",
       "    animation:\n",
       "      spin 1s steps(1) infinite;\n",
       "  }\n",
       "\n",
       "  @keyframes spin {\n",
       "    0% {\n",
       "      border-color: transparent;\n",
       "      border-bottom-color: var(--fill-color);\n",
       "      border-left-color: var(--fill-color);\n",
       "    }\n",
       "    20% {\n",
       "      border-color: transparent;\n",
       "      border-left-color: var(--fill-color);\n",
       "      border-top-color: var(--fill-color);\n",
       "    }\n",
       "    30% {\n",
       "      border-color: transparent;\n",
       "      border-left-color: var(--fill-color);\n",
       "      border-top-color: var(--fill-color);\n",
       "      border-right-color: var(--fill-color);\n",
       "    }\n",
       "    40% {\n",
       "      border-color: transparent;\n",
       "      border-right-color: var(--fill-color);\n",
       "      border-top-color: var(--fill-color);\n",
       "    }\n",
       "    60% {\n",
       "      border-color: transparent;\n",
       "      border-right-color: var(--fill-color);\n",
       "    }\n",
       "    80% {\n",
       "      border-color: transparent;\n",
       "      border-right-color: var(--fill-color);\n",
       "      border-bottom-color: var(--fill-color);\n",
       "    }\n",
       "    90% {\n",
       "      border-color: transparent;\n",
       "      border-bottom-color: var(--fill-color);\n",
       "    }\n",
       "  }\n",
       "</style>\n",
       "\n",
       "      <script>\n",
       "        async function quickchart(key) {\n",
       "          const quickchartButtonEl =\n",
       "            document.querySelector('#' + key + ' button');\n",
       "          quickchartButtonEl.disabled = true;  // To prevent multiple clicks.\n",
       "          quickchartButtonEl.classList.add('colab-df-spinner');\n",
       "          try {\n",
       "            const charts = await google.colab.kernel.invokeFunction(\n",
       "                'suggestCharts', [key], {});\n",
       "          } catch (error) {\n",
       "            console.error('Error during call to suggestCharts:', error);\n",
       "          }\n",
       "          quickchartButtonEl.classList.remove('colab-df-spinner');\n",
       "          quickchartButtonEl.classList.add('colab-df-quickchart-complete');\n",
       "        }\n",
       "        (() => {\n",
       "          let quickchartButtonEl =\n",
       "            document.querySelector('#df-2d8197be-153d-4309-b141-efc6263933bd button');\n",
       "          quickchartButtonEl.style.display =\n",
       "            google.colab.kernel.accessAllowed ? 'block' : 'none';\n",
       "        })();\n",
       "      </script>\n",
       "    </div>\n",
       "\n",
       "  <div id=\"id_31adb5fb-66ef-4420-b40c-4a2f688f2fbc\">\n",
       "    <style>\n",
       "      .colab-df-generate {\n",
       "        background-color: #E8F0FE;\n",
       "        border: none;\n",
       "        border-radius: 50%;\n",
       "        cursor: pointer;\n",
       "        display: none;\n",
       "        fill: #1967D2;\n",
       "        height: 32px;\n",
       "        padding: 0 0 0 0;\n",
       "        width: 32px;\n",
       "      }\n",
       "\n",
       "      .colab-df-generate:hover {\n",
       "        background-color: #E2EBFA;\n",
       "        box-shadow: 0px 1px 2px rgba(60, 64, 67, 0.3), 0px 1px 3px 1px rgba(60, 64, 67, 0.15);\n",
       "        fill: #174EA6;\n",
       "      }\n",
       "\n",
       "      [theme=dark] .colab-df-generate {\n",
       "        background-color: #3B4455;\n",
       "        fill: #D2E3FC;\n",
       "      }\n",
       "\n",
       "      [theme=dark] .colab-df-generate:hover {\n",
       "        background-color: #434B5C;\n",
       "        box-shadow: 0px 1px 3px 1px rgba(0, 0, 0, 0.15);\n",
       "        filter: drop-shadow(0px 1px 2px rgba(0, 0, 0, 0.3));\n",
       "        fill: #FFFFFF;\n",
       "      }\n",
       "    </style>\n",
       "    <button class=\"colab-df-generate\" onclick=\"generateWithVariable('balanced_df')\"\n",
       "            title=\"Generate code using this dataframe.\"\n",
       "            style=\"display:none;\">\n",
       "\n",
       "  <svg xmlns=\"http://www.w3.org/2000/svg\" height=\"24px\"viewBox=\"0 0 24 24\"\n",
       "       width=\"24px\">\n",
       "    <path d=\"M7,19H8.4L18.45,9,17,7.55,7,17.6ZM5,21V16.75L18.45,3.32a2,2,0,0,1,2.83,0l1.4,1.43a1.91,1.91,0,0,1,.58,1.4,1.91,1.91,0,0,1-.58,1.4L9.25,21ZM18.45,9,17,7.55Zm-12,3A5.31,5.31,0,0,0,4.9,8.1,5.31,5.31,0,0,0,1,6.5,5.31,5.31,0,0,0,4.9,4.9,5.31,5.31,0,0,0,6.5,1,5.31,5.31,0,0,0,8.1,4.9,5.31,5.31,0,0,0,12,6.5,5.46,5.46,0,0,0,6.5,12Z\"/>\n",
       "  </svg>\n",
       "    </button>\n",
       "    <script>\n",
       "      (() => {\n",
       "      const buttonEl =\n",
       "        document.querySelector('#id_31adb5fb-66ef-4420-b40c-4a2f688f2fbc button.colab-df-generate');\n",
       "      buttonEl.style.display =\n",
       "        google.colab.kernel.accessAllowed ? 'block' : 'none';\n",
       "\n",
       "      buttonEl.onclick = () => {\n",
       "        google.colab.notebook.generateWithVariable('balanced_df');\n",
       "      }\n",
       "      })();\n",
       "    </script>\n",
       "  </div>\n",
       "\n",
       "    </div>\n",
       "  </div>\n"
      ],
      "application/vnd.google.colaboratory.intrinsic+json": {
       "type": "dataframe",
       "variable_name": "balanced_df",
       "summary": "{\n  \"name\": \"balanced_df\",\n  \"rows\": 998,\n  \"fields\": [\n    {\n      \"column\": \"Label\",\n      \"properties\": {\n        \"dtype\": \"number\",\n        \"std\": 0,\n        \"min\": 0,\n        \"max\": 1,\n        \"num_unique_values\": 2,\n        \"samples\": [\n          1,\n          0\n        ],\n        \"semantic_type\": \"\",\n        \"description\": \"\"\n      }\n    },\n    {\n      \"column\": \"Text\",\n      \"properties\": {\n        \"dtype\": \"string\",\n        \"num_unique_values\": 996,\n        \"samples\": [\n          \"Subject: Interview Success \\u2013 UI/UX Designer at Adobe\\n\\nHi Alex Johnson,\\n\\nYour application stood out among many. We're happy to inform you that you\\u2019ve passed the interview stages and have been selected for the role of UI/UX Designer.\\n\\nExpect formal documents from HR soon.\\n\\nWarm regards,\\n\\nLiam Nguyen\\nRecruitment \\u2013 Adobe\",\n          \"Subject: Interview Outcome \\u2013 IBM\\n\\nDear Casey Lee,\\n\\nAlthough your background is strong, we\\u2019ve chosen to move forward with other candidates for the Frontend Developer role.\\nPlease stay connected with us for future opportunities.\\n\\nWarm regards,\\n\\nNoah Clark\\nIBM Talent Acquisition\"\n        ],\n        \"semantic_type\": \"\",\n        \"description\": \"\"\n      }\n    }\n  ]\n}"
      }
     },
     "metadata": {},
     "execution_count": 11
    }
   ],
   "execution_count": null
  },
  {
   "metadata": {
    "ExecuteTime": {
     "end_time": "2025-05-04T11:18:57.925358Z",
     "start_time": "2025-05-04T11:18:57.906077Z"
    },
    "colab": {
     "base_uri": "https://localhost:8080/"
    },
    "id": "9b522d579f248f09",
    "executionInfo": {
     "status": "ok",
     "timestamp": 1746360089200,
     "user_tz": -600,
     "elapsed": 840,
     "user": {
      "displayName": "Phuc Minh Son Nguyen",
      "userId": "13821617769224177453"
     }
    },
    "outputId": "3125ee62-4d32-49df-ae0c-b23ad34fabb0"
   },
   "cell_type": "code",
   "source": [
    "from sklearn.model_selection import train_test_split\n",
    "\n",
    "# Step 1: Split into train (80%) and temp (20%)\n",
    "train_df, temp_df = train_test_split(\n",
    "    balanced_df, test_size=0.2, random_state=42, stratify=balanced_df[\"Label\"]\n",
    ")\n",
    "\n",
    "# Step 2: Split temp into validation (10%) and test (10%)\n",
    "val_df, test_df = train_test_split(\n",
    "    temp_df, test_size=0.5, random_state=42, stratify=temp_df[\"Label\"]\n",
    ")\n",
    "\n",
    "# Step 3: Save to CSV\n",
    "# train_df.to_csv(\"./processed/train.csv\", index=None, encoding='utf-8')\n",
    "# val_df.to_csv(\"./processed/validation.csv\", index=None, encoding='utf-8')\n",
    "# test_df.to_csv(\"./processed/test.csv\", index=None, encoding='utf-8')\n",
    "\n",
    "print(train_df.shape, val_df.shape, test_df.shape)\n"
   ],
   "id": "9b522d579f248f09",
   "outputs": [
    {
     "output_type": "stream",
     "name": "stdout",
     "text": [
      "(798, 2) (100, 2) (100, 2)\n"
     ]
    }
   ],
   "execution_count": null
  },
  {
   "cell_type": "code",
   "source": [
    "train_df.to_csv(\"./processed/train.csv\", index=None, encoding='utf-8-sig', quotechar='\"')\n",
    "val_df.to_csv(\"./processed/validation.csv\", index=None, encoding='utf-8-sig', quotechar='\"')\n",
    "test_df.to_csv(\"./processed/test.csv\", index=None, encoding='utf-8-sig', quotechar='\"')\n"
   ],
   "metadata": {
    "id": "mcTxGa2oJjjD"
   },
   "id": "mcTxGa2oJjjD",
   "execution_count": null,
   "outputs": []
  },
  {
   "cell_type": "code",
   "source": [
    "import pandas as pd\n",
    "train_df = pd.read_csv(\"./processed/train.csv\", encoding='utf-8-sig', quotechar='\"')\n",
    "val_df = pd.read_csv(\"./processed/validation.csv\", encoding='utf-8-sig', quotechar='\"')\n",
    "test_df = pd.read_csv(\"./processed/test.csv\", encoding='utf-8-sig', quotechar='\"')\n",
    "print(train_df.shape, val_df.shape, test_df.shape)"
   ],
   "metadata": {
    "colab": {
     "base_uri": "https://localhost:8080/"
    },
    "id": "SklsFlXLLHdt",
    "executionInfo": {
     "status": "ok",
     "timestamp": 1746399600211,
     "user_tz": -600,
     "elapsed": 2795,
     "user": {
      "displayName": "Phuc Minh Son Nguyen",
      "userId": "13821617769224177453"
     }
    },
    "outputId": "e912e45a-4cf5-4716-c565-9711e6cb9319"
   },
   "id": "SklsFlXLLHdt",
   "execution_count": 7,
   "outputs": [
    {
     "output_type": "stream",
     "name": "stdout",
     "text": [
      "(798, 2) (100, 2) (100, 2)\n"
     ]
    }
   ]
  },
  {
   "metadata": {
    "ExecuteTime": {
     "end_time": "2025-05-04T11:09:46.928799Z",
     "start_time": "2025-05-04T11:09:41.866898Z"
    },
    "colab": {
     "base_uri": "https://localhost:8080/"
    },
    "id": "c1b40f35b97209c7",
    "executionInfo": {
     "status": "ok",
     "timestamp": 1746399601843,
     "user_tz": -600,
     "elapsed": 36,
     "user": {
      "displayName": "Phuc Minh Son Nguyen",
      "userId": "13821617769224177453"
     }
    },
    "outputId": "0fb377dd-3c9d-419a-9473-b383ddde3c68"
   },
   "cell_type": "code",
   "source": [
    "import torch\n",
    "\n",
    "if torch.cuda.is_available():\n",
    "    print(\"CUDA is available ✅\")\n",
    "    print(f\"Device count: {torch.cuda.device_count()}\")\n",
    "    print(f\"Device name: {torch.cuda.get_device_name(0)}\")\n",
    "    print(f\"Current device: {torch.cuda.current_device()}\")\n",
    "else:\n",
    "    print(\"CUDA is NOT available ❌\")\n"
   ],
   "id": "c1b40f35b97209c7",
   "outputs": [
    {
     "output_type": "stream",
     "name": "stdout",
     "text": [
      "CUDA is available ✅\n",
      "Device count: 1\n",
      "Device name: Tesla T4\n",
      "Current device: 0\n"
     ]
    }
   ],
   "execution_count": 8
  },
  {
   "metadata": {
    "ExecuteTime": {
     "end_time": "2025-05-04T11:16:00.156854Z",
     "start_time": "2025-05-04T11:15:56.173649Z"
    },
    "colab": {
     "base_uri": "https://localhost:8080/"
    },
    "id": "5074fb57640116b7",
    "executionInfo": {
     "status": "ok",
     "timestamp": 1746399608853,
     "user_tz": -600,
     "elapsed": 4485,
     "user": {
      "displayName": "Phuc Minh Son Nguyen",
      "userId": "13821617769224177453"
     }
    },
    "outputId": "b2dbb26b-b191-4c41-dd5c-3107104d1b46"
   },
   "cell_type": "code",
   "source": [
    "import tiktoken\n",
    "\n",
    "tokenizer = tiktoken.get_encoding(\"gpt2\")\n",
    "print(tokenizer.encode(\"<|endoftext|>\", allowed_special={\"<|endoftext|>\"}))"
   ],
   "id": "5074fb57640116b7",
   "outputs": [
    {
     "output_type": "stream",
     "name": "stdout",
     "text": [
      "[50256]\n"
     ]
    }
   ],
   "execution_count": 9
  },
  {
   "metadata": {
    "ExecuteTime": {
     "end_time": "2025-05-04T11:18:15.366943Z",
     "start_time": "2025-05-04T11:18:15.357192Z"
    },
    "id": "56125eeca0f6e915",
    "executionInfo": {
     "status": "ok",
     "timestamp": 1746403842874,
     "user_tz": -600,
     "elapsed": 7,
     "user": {
      "displayName": "Phuc Minh Son Nguyen",
      "userId": "13821617769224177453"
     }
    }
   },
   "cell_type": "code",
   "source": [
    "import torch\n",
    "from torch.utils.data import Dataset\n",
    "import pandas as pd\n",
    "\n",
    "class InterviewDataset(Dataset):\n",
    "    def __init__(self, csv_file, tokenizer, max_length=None, pad_token_id=50256):\n",
    "        # Load the CSV file\n",
    "        self.data = pd.read_csv(csv_file, encoding='utf-8-sig', quotechar='\"')\n",
    "\n",
    "        # Pre-tokenize texts\n",
    "        # self.encoded_texts = [\n",
    "        #     tokenizer.encode(text) for text in self.data[\"Text\"]\n",
    "        # ]\n",
    "\n",
    "        # remove subjects\n",
    "        self.encoded_texts = [\n",
    "            tokenizer.encode(\"\\n\".join(text.splitlines()[1:]))  # remove the first line\n",
    "            for text in self.data[\"Text\"]\n",
    "        ]\n",
    "\n",
    "        if max_length is None:\n",
    "            self.max_length = self._longest_encoded_length()\n",
    "        else:\n",
    "            self.max_length = max_length\n",
    "            # Truncate sequences\n",
    "            self.encoded_texts = [\n",
    "                encoded[:self.max_length]\n",
    "                for encoded in self.encoded_texts\n",
    "            ]\n",
    "\n",
    "        # Pad sequences\n",
    "        self.encoded_texts = [\n",
    "            encoded + [pad_token_id] * (self.max_length - len(encoded))\n",
    "            for encoded in self.encoded_texts\n",
    "        ]\n",
    "\n",
    "    def __getitem__(self, index):\n",
    "        encoded = self.encoded_texts[index]\n",
    "        label = self.data.iloc[index][\"Label\"]\n",
    "        return (\n",
    "            torch.tensor(encoded, dtype=torch.long),\n",
    "            torch.tensor(label, dtype=torch.long)\n",
    "        )\n",
    "\n",
    "    def __len__(self):\n",
    "        return len(self.data)\n",
    "\n",
    "    def _longest_encoded_length(self):\n",
    "        return max(len(encoded) for encoded in self.encoded_texts)\n",
    "\n"
   ],
   "id": "56125eeca0f6e915",
   "outputs": [],
   "execution_count": 61
  },
  {
   "metadata": {
    "ExecuteTime": {
     "end_time": "2025-05-04T11:18:45.359696Z",
     "start_time": "2025-05-04T11:18:45.304199Z"
    },
    "colab": {
     "base_uri": "https://localhost:8080/"
    },
    "id": "75341c506c70c192",
    "executionInfo": {
     "status": "ok",
     "timestamp": 1746403844692,
     "user_tz": -600,
     "elapsed": 84,
     "user": {
      "displayName": "Phuc Minh Son Nguyen",
      "userId": "13821617769224177453"
     }
    },
    "outputId": "3d35e73a-6478-4b4e-ccba-20367dc35335"
   },
   "cell_type": "code",
   "source": [
    "train_dataset = InterviewDataset(\n",
    "    csv_file=\"./processed/train.csv\",\n",
    "    max_length=None,\n",
    "    tokenizer=tokenizer\n",
    ")\n",
    "\n",
    "print(train_dataset.max_length)\n",
    "# print(len(train_dataset))\n",
    "train_dataset.__getitem__(500)[1]"
   ],
   "id": "75341c506c70c192",
   "outputs": [
    {
     "output_type": "stream",
     "name": "stdout",
     "text": [
      "585\n"
     ]
    },
    {
     "output_type": "execute_result",
     "data": {
      "text/plain": [
       "tensor(0)"
      ]
     },
     "metadata": {},
     "execution_count": 62
    }
   ],
   "execution_count": 62
  },
  {
   "metadata": {
    "ExecuteTime": {
     "end_time": "2025-05-04T11:20:34.250420Z",
     "start_time": "2025-05-04T11:20:34.234603Z"
    },
    "id": "bbbce682739dde3b",
    "executionInfo": {
     "status": "ok",
     "timestamp": 1746403845858,
     "user_tz": -600,
     "elapsed": 69,
     "user": {
      "displayName": "Phuc Minh Son Nguyen",
      "userId": "13821617769224177453"
     }
    }
   },
   "cell_type": "code",
   "source": [
    "val_dataset = InterviewDataset(\n",
    "    csv_file=\"./processed/validation.csv\",\n",
    "    max_length=None,\n",
    "    tokenizer=tokenizer\n",
    ")\n",
    "test_dataset = InterviewDataset(\n",
    "    csv_file=\"./processed/test.csv\",\n",
    "    max_length=None,\n",
    "    tokenizer=tokenizer\n",
    ")"
   ],
   "id": "bbbce682739dde3b",
   "outputs": [],
   "execution_count": 63
  },
  {
   "metadata": {
    "ExecuteTime": {
     "end_time": "2025-05-04T11:20:46.777982Z",
     "start_time": "2025-05-04T11:20:46.762381Z"
    },
    "id": "3ffdfbb81475dd15",
    "executionInfo": {
     "status": "ok",
     "timestamp": 1746403847631,
     "user_tz": -600,
     "elapsed": 9,
     "user": {
      "displayName": "Phuc Minh Son Nguyen",
      "userId": "13821617769224177453"
     }
    }
   },
   "cell_type": "code",
   "source": [
    "from torch.utils.data import DataLoader\n",
    "\n",
    "num_workers = 0\n",
    "batch_size = 8\n",
    "\n",
    "torch.manual_seed(123)\n",
    "\n",
    "train_loader = DataLoader(\n",
    "    dataset=train_dataset,\n",
    "    batch_size=batch_size,\n",
    "    shuffle=True,\n",
    "    num_workers=num_workers,\n",
    "    drop_last=True,\n",
    ")\n",
    "\n",
    "val_loader = DataLoader(\n",
    "    dataset=val_dataset,\n",
    "    batch_size=batch_size,\n",
    "    num_workers=num_workers,\n",
    "    drop_last=False,\n",
    ")\n",
    "\n",
    "test_loader = DataLoader(\n",
    "    dataset=test_dataset,\n",
    "    batch_size=batch_size,\n",
    "    num_workers=num_workers,\n",
    "    drop_last=False,\n",
    ")"
   ],
   "id": "3ffdfbb81475dd15",
   "outputs": [],
   "execution_count": 64
  },
  {
   "metadata": {
    "ExecuteTime": {
     "end_time": "2025-05-04T11:20:52.792152Z",
     "start_time": "2025-05-04T11:20:52.651682Z"
    },
    "colab": {
     "base_uri": "https://localhost:8080/"
    },
    "id": "ced1db486be237a7",
    "executionInfo": {
     "status": "ok",
     "timestamp": 1746403850162,
     "user_tz": -600,
     "elapsed": 138,
     "user": {
      "displayName": "Phuc Minh Son Nguyen",
      "userId": "13821617769224177453"
     }
    },
    "outputId": "249b1eba-5a3b-41bc-94c1-9646a6c53346"
   },
   "cell_type": "code",
   "source": [
    "print(\"Train loader:\")\n",
    "for input_batch, target_batch in train_loader:\n",
    "    pass\n",
    "\n",
    "print(\"Input batch dimensions:\", input_batch.shape)\n",
    "print(\"Label batch dimensions\", target_batch.shape)"
   ],
   "id": "ced1db486be237a7",
   "outputs": [
    {
     "output_type": "stream",
     "name": "stdout",
     "text": [
      "Train loader:\n",
      "Input batch dimensions: torch.Size([8, 585])\n",
      "Label batch dimensions torch.Size([8])\n"
     ]
    }
   ],
   "execution_count": 65
  },
  {
   "metadata": {
    "ExecuteTime": {
     "end_time": "2025-05-04T11:20:59.444809Z",
     "start_time": "2025-05-04T11:20:59.437251Z"
    },
    "colab": {
     "base_uri": "https://localhost:8080/"
    },
    "id": "961e5da597a1291e",
    "executionInfo": {
     "status": "ok",
     "timestamp": 1746403851095,
     "user_tz": -600,
     "elapsed": 15,
     "user": {
      "displayName": "Phuc Minh Son Nguyen",
      "userId": "13821617769224177453"
     }
    },
    "outputId": "5bb9d2e4-b3c9-4b6d-957c-e2b9ec14e78c"
   },
   "cell_type": "code",
   "source": [
    "print(f\"{len(train_loader)} training batches\")\n",
    "print(f\"{len(val_loader)} validation batches\")\n",
    "print(f\"{len(test_loader)} test batches\")"
   ],
   "id": "961e5da597a1291e",
   "outputs": [
    {
     "output_type": "stream",
     "name": "stdout",
     "text": [
      "99 training batches\n",
      "13 validation batches\n",
      "13 test batches\n"
     ]
    }
   ],
   "execution_count": 66
  },
  {
   "metadata": {
    "ExecuteTime": {
     "end_time": "2025-05-04T11:21:17.412384Z",
     "start_time": "2025-05-04T11:21:17.398666Z"
    },
    "id": "18906f217b3811f8",
    "executionInfo": {
     "status": "ok",
     "timestamp": 1746403852472,
     "user_tz": -600,
     "elapsed": 1,
     "user": {
      "displayName": "Phuc Minh Son Nguyen",
      "userId": "13821617769224177453"
     }
    }
   },
   "cell_type": "code",
   "source": [
    "CHOOSE_MODEL = \"gpt2-small (124M)\"\n",
    "INPUT_PROMPT = \"Every effort moves\"\n",
    "\n",
    "BASE_CONFIG = {\n",
    "    \"vocab_size\": 50257,     # Vocabulary size\n",
    "    \"context_length\": 1024,  # Context length\n",
    "    \"drop_rate\": 0.0,        # Dropout rate\n",
    "    \"qkv_bias\": True         # Query-key-value bias\n",
    "}\n",
    "\n",
    "model_configs = {\n",
    "    \"gpt2-small (124M)\": {\"emb_dim\": 768, \"n_layers\": 12, \"n_heads\": 12},\n",
    "    \"gpt2-medium (355M)\": {\"emb_dim\": 1024, \"n_layers\": 24, \"n_heads\": 16},\n",
    "    \"gpt2-large (774M)\": {\"emb_dim\": 1280, \"n_layers\": 36, \"n_heads\": 20},\n",
    "    \"gpt2-xl (1558M)\": {\"emb_dim\": 1600, \"n_layers\": 48, \"n_heads\": 25},\n",
    "}\n",
    "\n",
    "BASE_CONFIG.update(model_configs[CHOOSE_MODEL])\n",
    "\n",
    "assert train_dataset.max_length <= BASE_CONFIG[\"context_length\"], (\n",
    "    f\"Dataset length {train_dataset.max_length} exceeds model's context \"\n",
    "    f\"length {BASE_CONFIG['context_length']}. Reinitialize data sets with \"\n",
    "    f\"`max_length={BASE_CONFIG['context_length']}`\"\n",
    ")"
   ],
   "id": "18906f217b3811f8",
   "outputs": [],
   "execution_count": 67
  },
  {
   "cell_type": "code",
   "source": [
    "from gpt_download import download_and_load_gpt2\n",
    "\n",
    "model_size = CHOOSE_MODEL.split(\" \")[-1].lstrip(\"(\").rstrip(\")\")\n",
    "settings, params = download_and_load_gpt2(model_size=model_size, models_dir=\"gpt2\")"
   ],
   "metadata": {
    "id": "3tn086Ic0hvL"
   },
   "id": "3tn086Ic0hvL",
   "execution_count": null,
   "outputs": []
  },
  {
   "cell_type": "code",
   "source": [
    "import torch\n",
    "\n",
    "torch.cuda.empty_cache()  # Clears unused memory\n",
    "torch.cuda.ipc_collect()  # Releases IPC resources\n",
    "\n",
    "import gc\n",
    "\n",
    "del model  # Delete the model if not needed\n",
    "del optimizer  # Delete optimizer\n",
    "gc.collect()  # Force garbage collection\n",
    "torch.cuda.empty_cache()"
   ],
   "metadata": {
    "id": "qNWlFndqPwS9",
    "executionInfo": {
     "status": "ok",
     "timestamp": 1746404509236,
     "user_tz": -600,
     "elapsed": 426,
     "user": {
      "displayName": "Phuc Minh Son Nguyen",
      "userId": "13821617769224177453"
     }
    }
   },
   "id": "qNWlFndqPwS9",
   "execution_count": 100,
   "outputs": []
  },
  {
   "cell_type": "code",
   "source": [
    "model = GPTModel(BASE_CONFIG)\n",
    "load_weights_into_gpt(model, params)\n",
    "model.eval();"
   ],
   "metadata": {
    "id": "XzyymjCdy-PR",
    "executionInfo": {
     "status": "ok",
     "timestamp": 1746404521034,
     "user_tz": -600,
     "elapsed": 1964,
     "user": {
      "displayName": "Phuc Minh Son Nguyen",
      "userId": "13821617769224177453"
     }
    }
   },
   "id": "XzyymjCdy-PR",
   "execution_count": 101,
   "outputs": []
  },
  {
   "metadata": {
    "ExecuteTime": {
     "end_time": "2025-05-04T11:22:15.380670Z",
     "start_time": "2025-05-04T11:22:14.171433Z"
    },
    "colab": {
     "base_uri": "https://localhost:8080/"
    },
    "id": "9f826de5e4ccfb29",
    "executionInfo": {
     "status": "ok",
     "timestamp": 1746404536691,
     "user_tz": -600,
     "elapsed": 7057,
     "user": {
      "displayName": "Phuc Minh Son Nguyen",
      "userId": "13821617769224177453"
     }
    },
    "outputId": "99536b99-8ae8-4790-fa46-1d0b08888796"
   },
   "cell_type": "code",
   "source": [
    "text_1 = \"We’re pleased to let you know that you’ve progressed\"\n",
    "\n",
    "token_ids = generate_text_simple(\n",
    "    model=model,\n",
    "    idx=text_to_token_ids(text_1, tokenizer),\n",
    "    max_new_tokens=15,\n",
    "    context_size=BASE_CONFIG[\"context_length\"]\n",
    ")\n",
    "\n",
    "print(token_ids_to_text(token_ids, tokenizer))\n",
    "\n",
    "text_2 = (\n",
    "    \"After thorough evaluation, we will not be extending an offer at this time\"\n",
    ")\n",
    "\n",
    "token_ids = generate_text_simple(\n",
    "    model=model,\n",
    "    idx=text_to_token_ids(text_2, tokenizer),\n",
    "    max_new_tokens=23,\n",
    "    context_size=BASE_CONFIG[\"context_length\"]\n",
    ")\n",
    "\n",
    "print(token_ids_to_text(token_ids, tokenizer))"
   ],
   "id": "9f826de5e4ccfb29",
   "outputs": [
    {
     "output_type": "stream",
     "name": "stdout",
     "text": [
      "We’re pleased to let you know that you’ve progressed through the process of getting your name on the list of the top 100 most\n",
      "After thorough evaluation, we will not be extending an offer at this time.\n",
      "\n",
      "We are not aware of any other offers that have been made to us.\n",
      "\n",
      "We are not\n"
     ]
    }
   ],
   "execution_count": 102
  },
  {
   "metadata": {
    "ExecuteTime": {
     "end_time": "2025-05-04T11:23:07.649213Z",
     "start_time": "2025-05-04T11:23:07.637987Z"
    },
    "colab": {
     "base_uri": "https://localhost:8080/"
    },
    "id": "361b2a7c0e5b5326",
    "executionInfo": {
     "status": "ok",
     "timestamp": 1746404538857,
     "user_tz": -600,
     "elapsed": 21,
     "user": {
      "displayName": "Phuc Minh Son Nguyen",
      "userId": "13821617769224177453"
     }
    },
    "outputId": "38ac9f70-b371-46b7-9e72-d813bcbde392"
   },
   "cell_type": "code",
   "source": [
    "print(model)"
   ],
   "id": "361b2a7c0e5b5326",
   "outputs": [
    {
     "output_type": "stream",
     "name": "stdout",
     "text": [
      "GPTModel(\n",
      "  (tok_emb): Embedding(50257, 768)\n",
      "  (pos_emb): Embedding(1024, 768)\n",
      "  (drop_emb): Dropout(p=0.0, inplace=False)\n",
      "  (trf_blocks): Sequential(\n",
      "    (0): TransformerBlock(\n",
      "      (att): MultiHeadAttention(\n",
      "        (W_query): Linear(in_features=768, out_features=768, bias=True)\n",
      "        (W_key): Linear(in_features=768, out_features=768, bias=True)\n",
      "        (W_value): Linear(in_features=768, out_features=768, bias=True)\n",
      "        (out_proj): Linear(in_features=768, out_features=768, bias=True)\n",
      "        (dropout): Dropout(p=0.0, inplace=False)\n",
      "      )\n",
      "      (ff): FeedForward(\n",
      "        (layers): Sequential(\n",
      "          (0): Linear(in_features=768, out_features=3072, bias=True)\n",
      "          (1): GELU()\n",
      "          (2): Linear(in_features=3072, out_features=768, bias=True)\n",
      "        )\n",
      "      )\n",
      "      (norm1): LayerNorm()\n",
      "      (norm2): LayerNorm()\n",
      "      (drop_resid): Dropout(p=0.0, inplace=False)\n",
      "    )\n",
      "    (1): TransformerBlock(\n",
      "      (att): MultiHeadAttention(\n",
      "        (W_query): Linear(in_features=768, out_features=768, bias=True)\n",
      "        (W_key): Linear(in_features=768, out_features=768, bias=True)\n",
      "        (W_value): Linear(in_features=768, out_features=768, bias=True)\n",
      "        (out_proj): Linear(in_features=768, out_features=768, bias=True)\n",
      "        (dropout): Dropout(p=0.0, inplace=False)\n",
      "      )\n",
      "      (ff): FeedForward(\n",
      "        (layers): Sequential(\n",
      "          (0): Linear(in_features=768, out_features=3072, bias=True)\n",
      "          (1): GELU()\n",
      "          (2): Linear(in_features=3072, out_features=768, bias=True)\n",
      "        )\n",
      "      )\n",
      "      (norm1): LayerNorm()\n",
      "      (norm2): LayerNorm()\n",
      "      (drop_resid): Dropout(p=0.0, inplace=False)\n",
      "    )\n",
      "    (2): TransformerBlock(\n",
      "      (att): MultiHeadAttention(\n",
      "        (W_query): Linear(in_features=768, out_features=768, bias=True)\n",
      "        (W_key): Linear(in_features=768, out_features=768, bias=True)\n",
      "        (W_value): Linear(in_features=768, out_features=768, bias=True)\n",
      "        (out_proj): Linear(in_features=768, out_features=768, bias=True)\n",
      "        (dropout): Dropout(p=0.0, inplace=False)\n",
      "      )\n",
      "      (ff): FeedForward(\n",
      "        (layers): Sequential(\n",
      "          (0): Linear(in_features=768, out_features=3072, bias=True)\n",
      "          (1): GELU()\n",
      "          (2): Linear(in_features=3072, out_features=768, bias=True)\n",
      "        )\n",
      "      )\n",
      "      (norm1): LayerNorm()\n",
      "      (norm2): LayerNorm()\n",
      "      (drop_resid): Dropout(p=0.0, inplace=False)\n",
      "    )\n",
      "    (3): TransformerBlock(\n",
      "      (att): MultiHeadAttention(\n",
      "        (W_query): Linear(in_features=768, out_features=768, bias=True)\n",
      "        (W_key): Linear(in_features=768, out_features=768, bias=True)\n",
      "        (W_value): Linear(in_features=768, out_features=768, bias=True)\n",
      "        (out_proj): Linear(in_features=768, out_features=768, bias=True)\n",
      "        (dropout): Dropout(p=0.0, inplace=False)\n",
      "      )\n",
      "      (ff): FeedForward(\n",
      "        (layers): Sequential(\n",
      "          (0): Linear(in_features=768, out_features=3072, bias=True)\n",
      "          (1): GELU()\n",
      "          (2): Linear(in_features=3072, out_features=768, bias=True)\n",
      "        )\n",
      "      )\n",
      "      (norm1): LayerNorm()\n",
      "      (norm2): LayerNorm()\n",
      "      (drop_resid): Dropout(p=0.0, inplace=False)\n",
      "    )\n",
      "    (4): TransformerBlock(\n",
      "      (att): MultiHeadAttention(\n",
      "        (W_query): Linear(in_features=768, out_features=768, bias=True)\n",
      "        (W_key): Linear(in_features=768, out_features=768, bias=True)\n",
      "        (W_value): Linear(in_features=768, out_features=768, bias=True)\n",
      "        (out_proj): Linear(in_features=768, out_features=768, bias=True)\n",
      "        (dropout): Dropout(p=0.0, inplace=False)\n",
      "      )\n",
      "      (ff): FeedForward(\n",
      "        (layers): Sequential(\n",
      "          (0): Linear(in_features=768, out_features=3072, bias=True)\n",
      "          (1): GELU()\n",
      "          (2): Linear(in_features=3072, out_features=768, bias=True)\n",
      "        )\n",
      "      )\n",
      "      (norm1): LayerNorm()\n",
      "      (norm2): LayerNorm()\n",
      "      (drop_resid): Dropout(p=0.0, inplace=False)\n",
      "    )\n",
      "    (5): TransformerBlock(\n",
      "      (att): MultiHeadAttention(\n",
      "        (W_query): Linear(in_features=768, out_features=768, bias=True)\n",
      "        (W_key): Linear(in_features=768, out_features=768, bias=True)\n",
      "        (W_value): Linear(in_features=768, out_features=768, bias=True)\n",
      "        (out_proj): Linear(in_features=768, out_features=768, bias=True)\n",
      "        (dropout): Dropout(p=0.0, inplace=False)\n",
      "      )\n",
      "      (ff): FeedForward(\n",
      "        (layers): Sequential(\n",
      "          (0): Linear(in_features=768, out_features=3072, bias=True)\n",
      "          (1): GELU()\n",
      "          (2): Linear(in_features=3072, out_features=768, bias=True)\n",
      "        )\n",
      "      )\n",
      "      (norm1): LayerNorm()\n",
      "      (norm2): LayerNorm()\n",
      "      (drop_resid): Dropout(p=0.0, inplace=False)\n",
      "    )\n",
      "    (6): TransformerBlock(\n",
      "      (att): MultiHeadAttention(\n",
      "        (W_query): Linear(in_features=768, out_features=768, bias=True)\n",
      "        (W_key): Linear(in_features=768, out_features=768, bias=True)\n",
      "        (W_value): Linear(in_features=768, out_features=768, bias=True)\n",
      "        (out_proj): Linear(in_features=768, out_features=768, bias=True)\n",
      "        (dropout): Dropout(p=0.0, inplace=False)\n",
      "      )\n",
      "      (ff): FeedForward(\n",
      "        (layers): Sequential(\n",
      "          (0): Linear(in_features=768, out_features=3072, bias=True)\n",
      "          (1): GELU()\n",
      "          (2): Linear(in_features=3072, out_features=768, bias=True)\n",
      "        )\n",
      "      )\n",
      "      (norm1): LayerNorm()\n",
      "      (norm2): LayerNorm()\n",
      "      (drop_resid): Dropout(p=0.0, inplace=False)\n",
      "    )\n",
      "    (7): TransformerBlock(\n",
      "      (att): MultiHeadAttention(\n",
      "        (W_query): Linear(in_features=768, out_features=768, bias=True)\n",
      "        (W_key): Linear(in_features=768, out_features=768, bias=True)\n",
      "        (W_value): Linear(in_features=768, out_features=768, bias=True)\n",
      "        (out_proj): Linear(in_features=768, out_features=768, bias=True)\n",
      "        (dropout): Dropout(p=0.0, inplace=False)\n",
      "      )\n",
      "      (ff): FeedForward(\n",
      "        (layers): Sequential(\n",
      "          (0): Linear(in_features=768, out_features=3072, bias=True)\n",
      "          (1): GELU()\n",
      "          (2): Linear(in_features=3072, out_features=768, bias=True)\n",
      "        )\n",
      "      )\n",
      "      (norm1): LayerNorm()\n",
      "      (norm2): LayerNorm()\n",
      "      (drop_resid): Dropout(p=0.0, inplace=False)\n",
      "    )\n",
      "    (8): TransformerBlock(\n",
      "      (att): MultiHeadAttention(\n",
      "        (W_query): Linear(in_features=768, out_features=768, bias=True)\n",
      "        (W_key): Linear(in_features=768, out_features=768, bias=True)\n",
      "        (W_value): Linear(in_features=768, out_features=768, bias=True)\n",
      "        (out_proj): Linear(in_features=768, out_features=768, bias=True)\n",
      "        (dropout): Dropout(p=0.0, inplace=False)\n",
      "      )\n",
      "      (ff): FeedForward(\n",
      "        (layers): Sequential(\n",
      "          (0): Linear(in_features=768, out_features=3072, bias=True)\n",
      "          (1): GELU()\n",
      "          (2): Linear(in_features=3072, out_features=768, bias=True)\n",
      "        )\n",
      "      )\n",
      "      (norm1): LayerNorm()\n",
      "      (norm2): LayerNorm()\n",
      "      (drop_resid): Dropout(p=0.0, inplace=False)\n",
      "    )\n",
      "    (9): TransformerBlock(\n",
      "      (att): MultiHeadAttention(\n",
      "        (W_query): Linear(in_features=768, out_features=768, bias=True)\n",
      "        (W_key): Linear(in_features=768, out_features=768, bias=True)\n",
      "        (W_value): Linear(in_features=768, out_features=768, bias=True)\n",
      "        (out_proj): Linear(in_features=768, out_features=768, bias=True)\n",
      "        (dropout): Dropout(p=0.0, inplace=False)\n",
      "      )\n",
      "      (ff): FeedForward(\n",
      "        (layers): Sequential(\n",
      "          (0): Linear(in_features=768, out_features=3072, bias=True)\n",
      "          (1): GELU()\n",
      "          (2): Linear(in_features=3072, out_features=768, bias=True)\n",
      "        )\n",
      "      )\n",
      "      (norm1): LayerNorm()\n",
      "      (norm2): LayerNorm()\n",
      "      (drop_resid): Dropout(p=0.0, inplace=False)\n",
      "    )\n",
      "    (10): TransformerBlock(\n",
      "      (att): MultiHeadAttention(\n",
      "        (W_query): Linear(in_features=768, out_features=768, bias=True)\n",
      "        (W_key): Linear(in_features=768, out_features=768, bias=True)\n",
      "        (W_value): Linear(in_features=768, out_features=768, bias=True)\n",
      "        (out_proj): Linear(in_features=768, out_features=768, bias=True)\n",
      "        (dropout): Dropout(p=0.0, inplace=False)\n",
      "      )\n",
      "      (ff): FeedForward(\n",
      "        (layers): Sequential(\n",
      "          (0): Linear(in_features=768, out_features=3072, bias=True)\n",
      "          (1): GELU()\n",
      "          (2): Linear(in_features=3072, out_features=768, bias=True)\n",
      "        )\n",
      "      )\n",
      "      (norm1): LayerNorm()\n",
      "      (norm2): LayerNorm()\n",
      "      (drop_resid): Dropout(p=0.0, inplace=False)\n",
      "    )\n",
      "    (11): TransformerBlock(\n",
      "      (att): MultiHeadAttention(\n",
      "        (W_query): Linear(in_features=768, out_features=768, bias=True)\n",
      "        (W_key): Linear(in_features=768, out_features=768, bias=True)\n",
      "        (W_value): Linear(in_features=768, out_features=768, bias=True)\n",
      "        (out_proj): Linear(in_features=768, out_features=768, bias=True)\n",
      "        (dropout): Dropout(p=0.0, inplace=False)\n",
      "      )\n",
      "      (ff): FeedForward(\n",
      "        (layers): Sequential(\n",
      "          (0): Linear(in_features=768, out_features=3072, bias=True)\n",
      "          (1): GELU()\n",
      "          (2): Linear(in_features=3072, out_features=768, bias=True)\n",
      "        )\n",
      "      )\n",
      "      (norm1): LayerNorm()\n",
      "      (norm2): LayerNorm()\n",
      "      (drop_resid): Dropout(p=0.0, inplace=False)\n",
      "    )\n",
      "  )\n",
      "  (final_norm): LayerNorm()\n",
      "  (out_head): Linear(in_features=768, out_features=50257, bias=False)\n",
      ")\n"
     ]
    }
   ],
   "execution_count": 103
  },
  {
   "metadata": {
    "ExecuteTime": {
     "end_time": "2025-05-04T11:24:04.857193Z",
     "start_time": "2025-05-04T11:24:04.848163Z"
    },
    "id": "7d2eb06619b4c741",
    "executionInfo": {
     "status": "ok",
     "timestamp": 1746404128583,
     "user_tz": -600,
     "elapsed": 4,
     "user": {
      "displayName": "Phuc Minh Son Nguyen",
      "userId": "13821617769224177453"
     }
    }
   },
   "cell_type": "code",
   "source": [
    "# for param in model.parameters():\n",
    "#     param.requires_grad = False"
   ],
   "id": "7d2eb06619b4c741",
   "outputs": [],
   "execution_count": 89
  },
  {
   "metadata": {
    "ExecuteTime": {
     "end_time": "2025-05-04T11:24:05.573362Z",
     "start_time": "2025-05-04T11:24:05.559179Z"
    },
    "id": "594c347fcda82d67",
    "executionInfo": {
     "status": "ok",
     "timestamp": 1746404541764,
     "user_tz": -600,
     "elapsed": 13,
     "user": {
      "displayName": "Phuc Minh Son Nguyen",
      "userId": "13821617769224177453"
     }
    }
   },
   "cell_type": "code",
   "source": [
    "torch.manual_seed(123)\n",
    "\n",
    "num_classes = 2\n",
    "model.out_head = torch.nn.Linear(in_features=BASE_CONFIG[\"emb_dim\"], out_features=num_classes)"
   ],
   "id": "594c347fcda82d67",
   "outputs": [],
   "execution_count": 104
  },
  {
   "metadata": {
    "ExecuteTime": {
     "end_time": "2025-05-04T11:24:28.766297Z",
     "start_time": "2025-05-04T11:24:28.756880Z"
    },
    "id": "390965a2c4703e74",
    "executionInfo": {
     "status": "ok",
     "timestamp": 1746404130931,
     "user_tz": -600,
     "elapsed": 10,
     "user": {
      "displayName": "Phuc Minh Son Nguyen",
      "userId": "13821617769224177453"
     }
    }
   },
   "cell_type": "code",
   "source": [
    "# for param in model.trf_blocks[-1].parameters():\n",
    "#     param.requires_grad = True\n",
    "\n",
    "# for param in model.final_norm.parameters():\n",
    "#     param.requires_grad = True"
   ],
   "id": "390965a2c4703e74",
   "outputs": [],
   "execution_count": 91
  },
  {
   "metadata": {
    "ExecuteTime": {
     "end_time": "2025-05-04T11:25:55.579511Z",
     "start_time": "2025-05-04T11:25:55.573038Z"
    },
    "id": "bbe7ddba7686b158",
    "executionInfo": {
     "status": "ok",
     "timestamp": 1746404543219,
     "user_tz": -600,
     "elapsed": 2,
     "user": {
      "displayName": "Phuc Minh Son Nguyen",
      "userId": "13821617769224177453"
     }
    }
   },
   "cell_type": "code",
   "source": [
    "def calc_accuracy_loader(data_loader, model, device, num_batches=None):\n",
    "    model.eval()\n",
    "    correct_predictions, num_examples = 0, 0\n",
    "\n",
    "    if num_batches is None:\n",
    "        num_batches = len(data_loader)\n",
    "    else:\n",
    "        num_batches = min(num_batches, len(data_loader))\n",
    "    for i, (input_batch, target_batch) in enumerate(data_loader):\n",
    "        if i < num_batches:\n",
    "            input_batch, target_batch = input_batch.to(device), target_batch.to(device)\n",
    "\n",
    "            with torch.no_grad():\n",
    "                logits = model(input_batch)[:, -1, :]  # Logits of last output token\n",
    "            predicted_labels = torch.argmax(logits, dim=-1)\n",
    "\n",
    "            num_examples += predicted_labels.shape[0]\n",
    "            correct_predictions += (predicted_labels == target_batch).sum().item()\n",
    "        else:\n",
    "            break\n",
    "    return correct_predictions / num_examples"
   ],
   "id": "bbe7ddba7686b158",
   "outputs": [],
   "execution_count": 105
  },
  {
   "metadata": {
    "ExecuteTime": {
     "end_time": "2025-05-04T11:27:02.610001Z",
     "start_time": "2025-05-04T11:26:55.050850Z"
    },
    "colab": {
     "base_uri": "https://localhost:8080/"
    },
    "id": "5deee9b305ee0049",
    "executionInfo": {
     "status": "ok",
     "timestamp": 1746404552673,
     "user_tz": -600,
     "elapsed": 8214,
     "user": {
      "displayName": "Phuc Minh Son Nguyen",
      "userId": "13821617769224177453"
     }
    },
    "outputId": "fbdf2c04-62d7-47ec-96f9-85dc7b4b3140"
   },
   "cell_type": "code",
   "source": [
    "device = torch.device(\"cuda\" if torch.cuda.is_available() else \"cpu\")\n",
    "\n",
    "model.to(device) # no assignment model = model.to(device) necessary for nn.Module classes\n",
    "\n",
    "torch.manual_seed(123) # For reproducibility due to the shuffling in the training data loader\n",
    "\n",
    "train_accuracy = calc_accuracy_loader(train_loader, model, device, num_batches=10)\n",
    "val_accuracy = calc_accuracy_loader(val_loader, model, device, num_batches=10)\n",
    "test_accuracy = calc_accuracy_loader(test_loader, model, device, num_batches=10)\n",
    "\n",
    "print(f\"Training accuracy: {train_accuracy*100:.2f}%\")\n",
    "print(f\"Validation accuracy: {val_accuracy*100:.2f}%\")\n",
    "print(f\"Test accuracy: {test_accuracy*100:.2f}%\")"
   ],
   "id": "5deee9b305ee0049",
   "outputs": [
    {
     "output_type": "stream",
     "name": "stdout",
     "text": [
      "Training accuracy: 46.25%\n",
      "Validation accuracy: 47.50%\n",
      "Test accuracy: 50.00%\n"
     ]
    }
   ],
   "execution_count": 106
  },
  {
   "metadata": {
    "ExecuteTime": {
     "end_time": "2025-05-04T11:27:11.203503Z",
     "start_time": "2025-05-04T11:27:11.187898Z"
    },
    "id": "f9a6edd820f6cc39",
    "executionInfo": {
     "status": "ok",
     "timestamp": 1746404556061,
     "user_tz": -600,
     "elapsed": 4,
     "user": {
      "displayName": "Phuc Minh Son Nguyen",
      "userId": "13821617769224177453"
     }
    }
   },
   "cell_type": "code",
   "source": [
    "def calc_loss_batch(input_batch, target_batch, model, device):\n",
    "    input_batch, target_batch = input_batch.to(device), target_batch.to(device)\n",
    "    logits = model(input_batch)[:, -1, :]  # Logits of last output token\n",
    "    loss = torch.nn.functional.cross_entropy(logits, target_batch)\n",
    "    return loss"
   ],
   "id": "f9a6edd820f6cc39",
   "outputs": [],
   "execution_count": 107
  },
  {
   "metadata": {
    "ExecuteTime": {
     "end_time": "2025-05-04T11:27:18.121435Z",
     "start_time": "2025-05-04T11:27:18.114709Z"
    },
    "id": "a871efd991c779a1",
    "executionInfo": {
     "status": "ok",
     "timestamp": 1746404556915,
     "user_tz": -600,
     "elapsed": 2,
     "user": {
      "displayName": "Phuc Minh Son Nguyen",
      "userId": "13821617769224177453"
     }
    }
   },
   "cell_type": "code",
   "source": [
    "\n",
    "def calc_loss_loader(data_loader, model, device, num_batches=None):\n",
    "    total_loss = 0.\n",
    "    if len(data_loader) == 0:\n",
    "        return float(\"nan\")\n",
    "    elif num_batches is None:\n",
    "        num_batches = len(data_loader)\n",
    "    else:\n",
    "        # Reduce the number of batches to match the total number of batches in the data loader\n",
    "        # if num_batches exceeds the number of batches in the data loader\n",
    "        num_batches = min(num_batches, len(data_loader))\n",
    "    for i, (input_batch, target_batch) in enumerate(data_loader):\n",
    "        if i < num_batches:\n",
    "            loss = calc_loss_batch(input_batch, target_batch, model, device)\n",
    "            total_loss += loss.item()\n",
    "        else:\n",
    "            break\n",
    "    return total_loss / num_batches"
   ],
   "id": "a871efd991c779a1",
   "outputs": [],
   "execution_count": 108
  },
  {
   "metadata": {
    "ExecuteTime": {
     "end_time": "2025-05-04T11:27:32.750735Z",
     "start_time": "2025-05-04T11:27:29.175927Z"
    },
    "colab": {
     "base_uri": "https://localhost:8080/"
    },
    "id": "e546736363911cec",
    "executionInfo": {
     "status": "ok",
     "timestamp": 1746404563188,
     "user_tz": -600,
     "elapsed": 4166,
     "user": {
      "displayName": "Phuc Minh Son Nguyen",
      "userId": "13821617769224177453"
     }
    },
    "outputId": "0baf5198-cdee-479b-a47a-a0a24abba85f"
   },
   "cell_type": "code",
   "source": [
    "with torch.no_grad(): # Disable gradient tracking for efficiency because we are not training, yet\n",
    "    train_loss = calc_loss_loader(train_loader, model, device, num_batches=5)\n",
    "    val_loss = calc_loss_loader(val_loader, model, device, num_batches=5)\n",
    "    test_loss = calc_loss_loader(test_loader, model, device, num_batches=5)\n",
    "\n",
    "print(f\"Training loss: {train_loss:.3f}\")\n",
    "print(f\"Validation loss: {val_loss:.3f}\")\n",
    "print(f\"Test loss: {test_loss:.3f}\")"
   ],
   "id": "e546736363911cec",
   "outputs": [
    {
     "output_type": "stream",
     "name": "stdout",
     "text": [
      "Training loss: 2.114\n",
      "Validation loss: 2.492\n",
      "Test loss: 2.611\n"
     ]
    }
   ],
   "execution_count": 109
  },
  {
   "metadata": {
    "ExecuteTime": {
     "end_time": "2025-05-04T11:28:27.639170Z",
     "start_time": "2025-05-04T11:28:27.633049Z"
    },
    "id": "8e539c2ee4e096a7",
    "executionInfo": {
     "status": "ok",
     "timestamp": 1746404564405,
     "user_tz": -600,
     "elapsed": 13,
     "user": {
      "displayName": "Phuc Minh Son Nguyen",
      "userId": "13821617769224177453"
     }
    }
   },
   "cell_type": "code",
   "source": [
    "def evaluate_model(model, train_loader, val_loader, device, eval_iter):\n",
    "    model.eval()\n",
    "    with torch.no_grad():\n",
    "        train_loss = calc_loss_loader(train_loader, model, device, num_batches=eval_iter)\n",
    "        val_loss = calc_loss_loader(val_loader, model, device, num_batches=eval_iter)\n",
    "    model.train()\n",
    "    return train_loss, val_loss"
   ],
   "id": "8e539c2ee4e096a7",
   "outputs": [],
   "execution_count": 110
  },
  {
   "metadata": {
    "ExecuteTime": {
     "end_time": "2025-05-04T11:28:29.918082Z",
     "start_time": "2025-05-04T11:28:29.905747Z"
    },
    "id": "504f7cf85b171ced",
    "executionInfo": {
     "status": "ok",
     "timestamp": 1746404565381,
     "user_tz": -600,
     "elapsed": 45,
     "user": {
      "displayName": "Phuc Minh Son Nguyen",
      "userId": "13821617769224177453"
     }
    }
   },
   "cell_type": "code",
   "source": [
    "\n",
    "def train_classifier_simple(model, train_loader, val_loader, optimizer, device, num_epochs,\n",
    "                            eval_freq, eval_iter):\n",
    "    # Initialize lists to track losses and examples seen\n",
    "    train_losses, val_losses, train_accs, val_accs = [], [], [], []\n",
    "    examples_seen, global_step = 0, -1\n",
    "\n",
    "    # Main training loop\n",
    "    for epoch in range(num_epochs):\n",
    "        model.train()  # Set model to training mode\n",
    "\n",
    "        for input_batch, target_batch in train_loader:\n",
    "            optimizer.zero_grad() # Reset loss gradients from previous batch iteration\n",
    "            loss = calc_loss_batch(input_batch, target_batch, model, device)\n",
    "            loss.backward() # Calculate loss gradients\n",
    "            optimizer.step() # Update model weights using loss gradients\n",
    "            examples_seen += input_batch.shape[0] # New: track examples instead of tokens\n",
    "            global_step += 1\n",
    "\n",
    "            # Optional evaluation step\n",
    "            if global_step % eval_freq == 0:\n",
    "                train_loss, val_loss = evaluate_model(\n",
    "                    model, train_loader, val_loader, device, eval_iter)\n",
    "                train_losses.append(train_loss)\n",
    "                val_losses.append(val_loss)\n",
    "                print(f\"Ep {epoch+1} (Step {global_step:06d}): \"\n",
    "                      f\"Train loss {train_loss:.3f}, Val loss {val_loss:.3f}\")\n",
    "\n",
    "        # Calculate accuracy after each epoch\n",
    "        train_accuracy = calc_accuracy_loader(train_loader, model, device, num_batches=eval_iter)\n",
    "        val_accuracy = calc_accuracy_loader(val_loader, model, device, num_batches=eval_iter)\n",
    "        print(f\"Training accuracy: {train_accuracy*100:.2f}% | \", end=\"\")\n",
    "        print(f\"Validation accuracy: {val_accuracy*100:.2f}%\")\n",
    "        train_accs.append(train_accuracy)\n",
    "        val_accs.append(val_accuracy)\n",
    "\n",
    "    return train_losses, val_losses, train_accs, val_accs, examples_seen"
   ],
   "id": "504f7cf85b171ced",
   "outputs": [],
   "execution_count": 111
  },
  {
   "metadata": {
    "ExecuteTime": {
     "end_time": "2025-05-04T11:30:22.975782Z",
     "start_time": "2025-05-04T11:28:42.545147Z"
    },
    "colab": {
     "base_uri": "https://localhost:8080/"
    },
    "id": "23b8626a5dad2dc0",
    "outputId": "9251e150-c2c0-4807-b8da-a5411a60d63d",
    "executionInfo": {
     "status": "ok",
     "timestamp": 1746407169148,
     "user_tz": -600,
     "elapsed": 2601860,
     "user": {
      "displayName": "Phuc Minh Son Nguyen",
      "userId": "13821617769224177453"
     }
    }
   },
   "cell_type": "code",
   "source": [
    "import time\n",
    "\n",
    "start_time = time.time()\n",
    "\n",
    "torch.manual_seed(123)\n",
    "\n",
    "optimizer = torch.optim.AdamW(model.parameters(), lr=5e-5, weight_decay=0.1)\n",
    "\n",
    "num_epochs = 20\n",
    "train_losses, val_losses, train_accs, val_accs, examples_seen = train_classifier_simple(\n",
    "    model, train_loader, val_loader, optimizer, device,\n",
    "    num_epochs=num_epochs, eval_freq=10, eval_iter=5,\n",
    ")\n",
    "\n",
    "end_time = time.time()\n",
    "execution_time_minutes = (end_time - start_time) / 60\n",
    "print(f\"Training completed in {execution_time_minutes:.2f} minutes.\")"
   ],
   "id": "23b8626a5dad2dc0",
   "outputs": [
    {
     "output_type": "stream",
     "name": "stdout",
     "text": [
      "Ep 1 (Step 000000): Train loss 3.636, Val loss 3.011\n",
      "Ep 1 (Step 000010): Train loss 0.772, Val loss 0.877\n",
      "Ep 1 (Step 000020): Train loss 0.737, Val loss 0.745\n",
      "Ep 1 (Step 000030): Train loss 0.691, Val loss 0.693\n",
      "Ep 1 (Step 000040): Train loss 0.819, Val loss 0.732\n",
      "Ep 1 (Step 000050): Train loss 0.694, Val loss 0.707\n",
      "Ep 1 (Step 000060): Train loss 0.710, Val loss 0.700\n",
      "Ep 1 (Step 000070): Train loss 0.693, Val loss 0.690\n",
      "Ep 1 (Step 000080): Train loss 0.771, Val loss 0.725\n",
      "Ep 1 (Step 000090): Train loss 0.683, Val loss 0.690\n",
      "Training accuracy: 42.50% | Validation accuracy: 50.00%\n",
      "Ep 2 (Step 000100): Train loss 0.656, Val loss 0.742\n",
      "Ep 2 (Step 000110): Train loss 0.684, Val loss 0.690\n",
      "Ep 2 (Step 000120): Train loss 0.667, Val loss 0.705\n",
      "Ep 2 (Step 000130): Train loss 0.682, Val loss 0.686\n",
      "Ep 2 (Step 000140): Train loss 0.688, Val loss 0.693\n",
      "Ep 2 (Step 000150): Train loss 0.694, Val loss 0.689\n",
      "Ep 2 (Step 000160): Train loss 0.666, Val loss 0.666\n",
      "Ep 2 (Step 000170): Train loss 0.526, Val loss 0.594\n",
      "Ep 2 (Step 000180): Train loss 0.288, Val loss 0.316\n",
      "Ep 2 (Step 000190): Train loss 0.067, Val loss 0.078\n",
      "Training accuracy: 100.00% | Validation accuracy: 100.00%\n",
      "Ep 3 (Step 000200): Train loss 0.019, Val loss 0.031\n",
      "Ep 3 (Step 000210): Train loss 0.017, Val loss 0.030\n",
      "Ep 3 (Step 000220): Train loss 0.014, Val loss 0.022\n",
      "Ep 3 (Step 000230): Train loss 0.008, Val loss 0.010\n",
      "Ep 3 (Step 000240): Train loss 0.006, Val loss 0.007\n",
      "Ep 3 (Step 000250): Train loss 0.005, Val loss 0.006\n",
      "Ep 3 (Step 000260): Train loss 0.011, Val loss 0.013\n",
      "Ep 3 (Step 000270): Train loss 0.022, Val loss 0.031\n",
      "Ep 3 (Step 000280): Train loss 0.015, Val loss 0.015\n",
      "Ep 3 (Step 000290): Train loss 0.009, Val loss 0.010\n",
      "Training accuracy: 100.00% | Validation accuracy: 100.00%\n",
      "Ep 4 (Step 000300): Train loss 0.007, Val loss 0.007\n",
      "Ep 4 (Step 000310): Train loss 0.006, Val loss 0.005\n",
      "Ep 4 (Step 000320): Train loss 0.005, Val loss 0.004\n",
      "Ep 4 (Step 000330): Train loss 0.004, Val loss 0.004\n",
      "Ep 4 (Step 000340): Train loss 0.003, Val loss 0.003\n",
      "Ep 4 (Step 000350): Train loss 0.063, Val loss 0.165\n",
      "Ep 4 (Step 000360): Train loss 0.005, Val loss 0.022\n",
      "Ep 4 (Step 000370): Train loss 0.005, Val loss 0.005\n",
      "Ep 4 (Step 000380): Train loss 0.005, Val loss 0.005\n",
      "Ep 4 (Step 000390): Train loss 0.003, Val loss 0.004\n",
      "Training accuracy: 100.00% | Validation accuracy: 100.00%\n",
      "Ep 5 (Step 000400): Train loss 0.004, Val loss 0.003\n",
      "Ep 5 (Step 000410): Train loss 0.002, Val loss 0.003\n",
      "Ep 5 (Step 000420): Train loss 0.003, Val loss 0.002\n",
      "Ep 5 (Step 000430): Train loss 0.003, Val loss 0.003\n",
      "Ep 5 (Step 000440): Train loss 0.003, Val loss 0.004\n",
      "Ep 5 (Step 000450): Train loss 0.003, Val loss 0.003\n",
      "Ep 5 (Step 000460): Train loss 0.003, Val loss 0.003\n",
      "Ep 5 (Step 000470): Train loss 0.002, Val loss 0.003\n",
      "Ep 5 (Step 000480): Train loss 0.002, Val loss 0.002\n",
      "Ep 5 (Step 000490): Train loss 0.002, Val loss 0.002\n",
      "Training accuracy: 100.00% | Validation accuracy: 100.00%\n",
      "Ep 6 (Step 000500): Train loss 0.001, Val loss 0.002\n",
      "Ep 6 (Step 000510): Train loss 0.003, Val loss 0.002\n",
      "Ep 6 (Step 000520): Train loss 0.001, Val loss 0.002\n",
      "Ep 6 (Step 000530): Train loss 0.001, Val loss 0.002\n",
      "Ep 6 (Step 000540): Train loss 0.001, Val loss 0.002\n",
      "Ep 6 (Step 000550): Train loss 0.001, Val loss 0.001\n",
      "Ep 6 (Step 000560): Train loss 0.001, Val loss 0.001\n",
      "Ep 6 (Step 000570): Train loss 0.002, Val loss 0.001\n",
      "Ep 6 (Step 000580): Train loss 0.001, Val loss 0.001\n",
      "Ep 6 (Step 000590): Train loss 0.001, Val loss 0.001\n",
      "Training accuracy: 100.00% | Validation accuracy: 100.00%\n",
      "Ep 7 (Step 000600): Train loss 0.001, Val loss 0.001\n",
      "Ep 7 (Step 000610): Train loss 0.001, Val loss 0.001\n",
      "Ep 7 (Step 000620): Train loss 0.001, Val loss 0.001\n",
      "Ep 7 (Step 000630): Train loss 0.001, Val loss 0.001\n",
      "Ep 7 (Step 000640): Train loss 0.001, Val loss 0.001\n",
      "Ep 7 (Step 000650): Train loss 0.001, Val loss 0.001\n",
      "Ep 7 (Step 000660): Train loss 0.001, Val loss 0.001\n",
      "Ep 7 (Step 000670): Train loss 0.001, Val loss 0.001\n",
      "Ep 7 (Step 000680): Train loss 0.001, Val loss 0.001\n",
      "Ep 7 (Step 000690): Train loss 0.001, Val loss 0.001\n",
      "Training accuracy: 100.00% | Validation accuracy: 100.00%\n",
      "Ep 8 (Step 000700): Train loss 0.001, Val loss 0.001\n",
      "Ep 8 (Step 000710): Train loss 0.001, Val loss 0.001\n",
      "Ep 8 (Step 000720): Train loss 0.001, Val loss 0.001\n",
      "Ep 8 (Step 000730): Train loss 0.000, Val loss 0.001\n",
      "Ep 8 (Step 000740): Train loss 0.000, Val loss 0.001\n",
      "Ep 8 (Step 000750): Train loss 0.000, Val loss 0.001\n",
      "Ep 8 (Step 000760): Train loss 0.000, Val loss 0.001\n",
      "Ep 8 (Step 000770): Train loss 0.000, Val loss 0.001\n",
      "Ep 8 (Step 000780): Train loss 0.000, Val loss 0.001\n",
      "Ep 8 (Step 000790): Train loss 0.000, Val loss 0.001\n",
      "Training accuracy: 100.00% | Validation accuracy: 100.00%\n",
      "Ep 9 (Step 000800): Train loss 0.000, Val loss 0.001\n",
      "Ep 9 (Step 000810): Train loss 0.000, Val loss 0.001\n",
      "Ep 9 (Step 000820): Train loss 0.000, Val loss 0.001\n",
      "Ep 9 (Step 000830): Train loss 0.000, Val loss 0.001\n",
      "Ep 9 (Step 000840): Train loss 0.000, Val loss 0.001\n",
      "Ep 9 (Step 000850): Train loss 0.000, Val loss 0.001\n",
      "Ep 9 (Step 000860): Train loss 0.000, Val loss 0.000\n",
      "Ep 9 (Step 000870): Train loss 0.000, Val loss 0.000\n",
      "Ep 9 (Step 000880): Train loss 0.000, Val loss 0.000\n",
      "Ep 9 (Step 000890): Train loss 0.000, Val loss 0.000\n",
      "Training accuracy: 100.00% | Validation accuracy: 100.00%\n",
      "Ep 10 (Step 000900): Train loss 0.000, Val loss 0.000\n",
      "Ep 10 (Step 000910): Train loss 0.000, Val loss 0.000\n",
      "Ep 10 (Step 000920): Train loss 0.000, Val loss 0.000\n",
      "Ep 10 (Step 000930): Train loss 0.000, Val loss 0.000\n",
      "Ep 10 (Step 000940): Train loss 0.000, Val loss 0.000\n",
      "Ep 10 (Step 000950): Train loss 0.000, Val loss 0.000\n",
      "Ep 10 (Step 000960): Train loss 0.000, Val loss 0.000\n",
      "Ep 10 (Step 000970): Train loss 0.000, Val loss 0.000\n",
      "Ep 10 (Step 000980): Train loss 0.000, Val loss 0.000\n",
      "Training accuracy: 100.00% | Validation accuracy: 100.00%\n",
      "Ep 11 (Step 000990): Train loss 0.000, Val loss 0.000\n",
      "Ep 11 (Step 001000): Train loss 0.000, Val loss 0.000\n",
      "Ep 11 (Step 001010): Train loss 0.000, Val loss 0.000\n",
      "Ep 11 (Step 001020): Train loss 0.000, Val loss 0.000\n",
      "Ep 11 (Step 001030): Train loss 0.000, Val loss 0.000\n",
      "Ep 11 (Step 001040): Train loss 0.000, Val loss 0.000\n",
      "Ep 11 (Step 001050): Train loss 0.000, Val loss 0.000\n",
      "Ep 11 (Step 001060): Train loss 0.000, Val loss 0.000\n",
      "Ep 11 (Step 001070): Train loss 0.000, Val loss 0.000\n",
      "Ep 11 (Step 001080): Train loss 0.000, Val loss 0.000\n",
      "Training accuracy: 100.00% | Validation accuracy: 100.00%\n",
      "Ep 12 (Step 001090): Train loss 0.000, Val loss 0.000\n",
      "Ep 12 (Step 001100): Train loss 0.000, Val loss 0.000\n",
      "Ep 12 (Step 001110): Train loss 0.000, Val loss 0.000\n",
      "Ep 12 (Step 001120): Train loss 0.000, Val loss 0.000\n",
      "Ep 12 (Step 001130): Train loss 0.000, Val loss 0.000\n",
      "Ep 12 (Step 001140): Train loss 0.000, Val loss 0.000\n",
      "Ep 12 (Step 001150): Train loss 0.000, Val loss 0.000\n",
      "Ep 12 (Step 001160): Train loss 0.000, Val loss 0.000\n",
      "Ep 12 (Step 001170): Train loss 0.000, Val loss 0.000\n",
      "Ep 12 (Step 001180): Train loss 0.000, Val loss 0.000\n",
      "Training accuracy: 100.00% | Validation accuracy: 100.00%\n",
      "Ep 13 (Step 001190): Train loss 0.000, Val loss 0.000\n",
      "Ep 13 (Step 001200): Train loss 0.000, Val loss 0.000\n",
      "Ep 13 (Step 001210): Train loss 0.000, Val loss 0.000\n",
      "Ep 13 (Step 001220): Train loss 0.000, Val loss 0.000\n",
      "Ep 13 (Step 001230): Train loss 0.000, Val loss 0.000\n",
      "Ep 13 (Step 001240): Train loss 0.000, Val loss 0.000\n",
      "Ep 13 (Step 001250): Train loss 0.000, Val loss 0.000\n",
      "Ep 13 (Step 001260): Train loss 0.000, Val loss 0.000\n",
      "Ep 13 (Step 001270): Train loss 0.000, Val loss 0.000\n",
      "Ep 13 (Step 001280): Train loss 0.000, Val loss 0.000\n",
      "Training accuracy: 100.00% | Validation accuracy: 100.00%\n",
      "Ep 14 (Step 001290): Train loss 0.000, Val loss 0.000\n",
      "Ep 14 (Step 001300): Train loss 0.000, Val loss 0.000\n",
      "Ep 14 (Step 001310): Train loss 0.000, Val loss 0.000\n",
      "Ep 14 (Step 001320): Train loss 0.000, Val loss 0.000\n",
      "Ep 14 (Step 001330): Train loss 0.000, Val loss 0.000\n",
      "Ep 14 (Step 001340): Train loss 0.000, Val loss 0.000\n",
      "Ep 14 (Step 001350): Train loss 0.000, Val loss 0.000\n",
      "Ep 14 (Step 001360): Train loss 0.000, Val loss 0.000\n",
      "Ep 14 (Step 001370): Train loss 0.000, Val loss 0.000\n",
      "Ep 14 (Step 001380): Train loss 0.000, Val loss 0.000\n",
      "Training accuracy: 100.00% | Validation accuracy: 100.00%\n",
      "Ep 15 (Step 001390): Train loss 0.000, Val loss 0.000\n",
      "Ep 15 (Step 001400): Train loss 0.000, Val loss 0.000\n",
      "Ep 15 (Step 001410): Train loss 0.000, Val loss 0.000\n",
      "Ep 15 (Step 001420): Train loss 0.000, Val loss 0.000\n",
      "Ep 15 (Step 001430): Train loss 0.000, Val loss 0.000\n",
      "Ep 15 (Step 001440): Train loss 0.000, Val loss 0.000\n",
      "Ep 15 (Step 001450): Train loss 0.000, Val loss 0.000\n",
      "Ep 15 (Step 001460): Train loss 0.000, Val loss 0.000\n",
      "Ep 15 (Step 001470): Train loss 0.000, Val loss 0.000\n",
      "Ep 15 (Step 001480): Train loss 0.000, Val loss 0.000\n",
      "Training accuracy: 100.00% | Validation accuracy: 100.00%\n",
      "Ep 16 (Step 001490): Train loss 0.000, Val loss 0.000\n",
      "Ep 16 (Step 001500): Train loss 0.000, Val loss 0.000\n",
      "Ep 16 (Step 001510): Train loss 0.000, Val loss 0.000\n",
      "Ep 16 (Step 001520): Train loss 0.000, Val loss 0.000\n",
      "Ep 16 (Step 001530): Train loss 0.000, Val loss 0.000\n",
      "Ep 16 (Step 001540): Train loss 0.000, Val loss 0.000\n",
      "Ep 16 (Step 001550): Train loss 0.000, Val loss 0.000\n",
      "Ep 16 (Step 001560): Train loss 0.000, Val loss 0.000\n",
      "Ep 16 (Step 001570): Train loss 0.000, Val loss 0.000\n",
      "Ep 16 (Step 001580): Train loss 0.000, Val loss 0.000\n",
      "Training accuracy: 100.00% | Validation accuracy: 100.00%\n",
      "Ep 17 (Step 001590): Train loss 0.000, Val loss 0.000\n",
      "Ep 17 (Step 001600): Train loss 0.000, Val loss 0.000\n",
      "Ep 17 (Step 001610): Train loss 0.000, Val loss 0.000\n",
      "Ep 17 (Step 001620): Train loss 0.000, Val loss 0.000\n",
      "Ep 17 (Step 001630): Train loss 0.000, Val loss 0.000\n",
      "Ep 17 (Step 001640): Train loss 0.000, Val loss 0.000\n",
      "Ep 17 (Step 001650): Train loss 0.000, Val loss 0.000\n",
      "Ep 17 (Step 001660): Train loss 0.000, Val loss 0.000\n",
      "Ep 17 (Step 001670): Train loss 0.000, Val loss 0.000\n",
      "Ep 17 (Step 001680): Train loss 0.000, Val loss 0.000\n",
      "Training accuracy: 100.00% | Validation accuracy: 100.00%\n",
      "Ep 18 (Step 001690): Train loss 0.000, Val loss 0.000\n",
      "Ep 18 (Step 001700): Train loss 0.000, Val loss 0.000\n",
      "Ep 18 (Step 001710): Train loss 0.000, Val loss 0.000\n",
      "Ep 18 (Step 001720): Train loss 0.000, Val loss 0.000\n",
      "Ep 18 (Step 001730): Train loss 0.000, Val loss 0.000\n",
      "Ep 18 (Step 001740): Train loss 0.000, Val loss 0.000\n",
      "Ep 18 (Step 001750): Train loss 0.000, Val loss 0.000\n",
      "Ep 18 (Step 001760): Train loss 0.000, Val loss 0.000\n",
      "Ep 18 (Step 001770): Train loss 0.000, Val loss 0.000\n",
      "Ep 18 (Step 001780): Train loss 0.000, Val loss 0.000\n",
      "Training accuracy: 100.00% | Validation accuracy: 100.00%\n",
      "Ep 19 (Step 001790): Train loss 0.000, Val loss 0.000\n",
      "Ep 19 (Step 001800): Train loss 0.000, Val loss 0.000\n",
      "Ep 19 (Step 001810): Train loss 0.000, Val loss 0.000\n",
      "Ep 19 (Step 001820): Train loss 0.000, Val loss 0.000\n",
      "Ep 19 (Step 001830): Train loss 0.000, Val loss 0.000\n",
      "Ep 19 (Step 001840): Train loss 0.000, Val loss 0.000\n",
      "Ep 19 (Step 001850): Train loss 0.000, Val loss 0.000\n",
      "Ep 19 (Step 001860): Train loss 0.000, Val loss 0.000\n",
      "Ep 19 (Step 001870): Train loss 0.000, Val loss 0.000\n",
      "Ep 19 (Step 001880): Train loss 0.000, Val loss 0.000\n",
      "Training accuracy: 100.00% | Validation accuracy: 100.00%\n",
      "Ep 20 (Step 001890): Train loss 0.000, Val loss 0.000\n",
      "Ep 20 (Step 001900): Train loss 0.000, Val loss 0.000\n",
      "Ep 20 (Step 001910): Train loss 0.000, Val loss 0.000\n",
      "Ep 20 (Step 001920): Train loss 0.000, Val loss 0.000\n",
      "Ep 20 (Step 001930): Train loss 0.000, Val loss 0.000\n",
      "Ep 20 (Step 001940): Train loss 0.000, Val loss 0.000\n",
      "Ep 20 (Step 001950): Train loss 0.000, Val loss 0.000\n",
      "Ep 20 (Step 001960): Train loss 0.000, Val loss 0.000\n",
      "Ep 20 (Step 001970): Train loss 0.000, Val loss 0.000\n",
      "Training accuracy: 100.00% | Validation accuracy: 100.00%\n",
      "Training completed in 43.36 minutes.\n"
     ]
    }
   ],
   "execution_count": 112
  },
  {
   "metadata": {
    "id": "b8131d69681b3845",
    "executionInfo": {
     "status": "ok",
     "timestamp": 1746407378889,
     "user_tz": -600,
     "elapsed": 45,
     "user": {
      "displayName": "Phuc Minh Son Nguyen",
      "userId": "13821617769224177453"
     }
    }
   },
   "cell_type": "code",
   "outputs": [],
   "execution_count": 113,
   "source": [
    "import matplotlib.pyplot as plt\n",
    "\n",
    "def plot_values(epochs_seen, examples_seen, train_values, val_values, label=\"loss\"):\n",
    "    fig, ax1 = plt.subplots(figsize=(5, 3))\n",
    "\n",
    "    # Plot training and validation loss against epochs\n",
    "    ax1.plot(epochs_seen, train_values, label=f\"Training {label}\")\n",
    "    ax1.plot(epochs_seen, val_values, linestyle=\"-.\", label=f\"Validation {label}\")\n",
    "    ax1.set_xlabel(\"Epochs\")\n",
    "    ax1.set_ylabel(label.capitalize())\n",
    "    ax1.legend()\n",
    "\n",
    "    # Create a second x-axis for examples seen\n",
    "    ax2 = ax1.twiny()  # Create a second x-axis that shares the same y-axis\n",
    "    ax2.plot(examples_seen, train_values, alpha=0)  # Invisible plot for aligning ticks\n",
    "    ax2.set_xlabel(\"Examples seen\")\n",
    "\n",
    "    fig.tight_layout()  # Adjust layout to make room\n",
    "    plt.savefig(f\"{label}-plot.pdf\")\n",
    "    plt.show()"
   ],
   "id": "b8131d69681b3845"
  },
  {
   "metadata": {
    "id": "fbe352d7d315a713",
    "colab": {
     "base_uri": "https://localhost:8080/",
     "height": 307
    },
    "executionInfo": {
     "status": "ok",
     "timestamp": 1746407380702,
     "user_tz": -600,
     "elapsed": 353,
     "user": {
      "displayName": "Phuc Minh Son Nguyen",
      "userId": "13821617769224177453"
     }
    },
    "outputId": "ebf1bbc1-b5a2-457c-9439-8979db57baeb"
   },
   "cell_type": "code",
   "outputs": [
    {
     "output_type": "display_data",
     "data": {
      "text/plain": [
       "<Figure size 500x300 with 2 Axes>"
      ],
      "image/png": "[encoded data removed]"
     },
     "metadata": {}
    }
   ],
   "execution_count": 114,
   "source": [
    "epochs_tensor = torch.linspace(0, num_epochs, len(train_losses))\n",
    "examples_seen_tensor = torch.linspace(0, examples_seen, len(train_losses))\n",
    "\n",
    "plot_values(epochs_tensor, examples_seen_tensor, train_losses, val_losses)"
   ],
   "id": "fbe352d7d315a713"
  },
  {
   "metadata": {
    "id": "174cd59622e1d4a1",
    "colab": {
     "base_uri": "https://localhost:8080/",
     "height": 307
    },
    "executionInfo": {
     "status": "ok",
     "timestamp": 1746407382593,
     "user_tz": -600,
     "elapsed": 352,
     "user": {
      "displayName": "Phuc Minh Son Nguyen",
      "userId": "13821617769224177453"
     }
    },
    "outputId": "f6b4b5ea-76ee-4c20-af3e-a792dfb3ce42"
   },
   "cell_type": "code",
   "outputs": [
    {
     "output_type": "display_data",
     "data": {
      "text/plain": [
       "<Figure size 500x300 with 2 Axes>"
      ],
      "image/png": "[encoded data removed]"
     },
     "metadata": {}
    }
   ],
   "execution_count": 115,
   "source": [
    "epochs_tensor = torch.linspace(0, num_epochs, len(train_accs))\n",
    "examples_seen_tensor = torch.linspace(0, examples_seen, len(train_accs))\n",
    "\n",
    "plot_values(epochs_tensor, examples_seen_tensor, train_accs, val_accs, label=\"accuracy\")"
   ],
   "id": "174cd59622e1d4a1"
  },
  {
   "metadata": {
    "id": "b5a5986d045cd620",
    "colab": {
     "base_uri": "https://localhost:8080/"
    },
    "executionInfo": {
     "status": "ok",
     "timestamp": 1746407426367,
     "user_tz": -600,
     "elapsed": 41930,
     "user": {
      "displayName": "Phuc Minh Son Nguyen",
      "userId": "13821617769224177453"
     }
    },
    "outputId": "35dc4acf-632d-4eb2-cd93-1e9c0f29b413"
   },
   "cell_type": "code",
   "outputs": [
    {
     "output_type": "stream",
     "name": "stdout",
     "text": [
      "Training accuracy: 100.00%\n",
      "Validation accuracy: 100.00%\n",
      "Test accuracy: 100.00%\n"
     ]
    }
   ],
   "execution_count": 116,
   "source": [
    "train_accuracy = calc_accuracy_loader(train_loader, model, device)\n",
    "val_accuracy = calc_accuracy_loader(val_loader, model, device)\n",
    "test_accuracy = calc_accuracy_loader(test_loader, model, device)\n",
    "\n",
    "print(f\"Training accuracy: {train_accuracy*100:.2f}%\")\n",
    "print(f\"Validation accuracy: {val_accuracy*100:.2f}%\")\n",
    "print(f\"Test accuracy: {test_accuracy*100:.2f}%\")"
   ],
   "id": "b5a5986d045cd620"
  },
  {
   "metadata": {
    "id": "3d4a5826635d7ab2",
    "executionInfo": {
     "status": "ok",
     "timestamp": 1746407427849,
     "user_tz": -600,
     "elapsed": 11,
     "user": {
      "displayName": "Phuc Minh Son Nguyen",
      "userId": "13821617769224177453"
     }
    }
   },
   "cell_type": "code",
   "outputs": [],
   "execution_count": 117,
   "source": [
    "def classify_email(text, model, tokenizer, device, max_length=None, pad_token_id=50256):\n",
    "    model.eval()\n",
    "\n",
    "    # Prepare inputs to the model\n",
    "    input_ids = tokenizer.encode(text)\n",
    "    supported_context_length = model.pos_emb.weight.shape[0]\n",
    "    # Note: In the book, this was originally written as pos_emb.weight.shape[1] by mistake\n",
    "    # It didn't break the code but would have caused unnecessary truncation (to 768 instead of 1024)\n",
    "\n",
    "    # Truncate sequences if they too long\n",
    "    input_ids = input_ids[:min(max_length, supported_context_length)]\n",
    "\n",
    "    # Pad sequences to the longest sequence\n",
    "    input_ids += [pad_token_id] * (max_length - len(input_ids))\n",
    "    input_tensor = torch.tensor(input_ids, device=device).unsqueeze(0) # add batch dimension\n",
    "\n",
    "    # Model inference\n",
    "    with torch.no_grad():\n",
    "        logits = model(input_tensor)[:, -1, :]  # Logits of the last output token\n",
    "    predicted_label = torch.argmax(logits, dim=-1).item()\n",
    "\n",
    "    # Return the classified result\n",
    "    return \"Passed\" if predicted_label == 1 else \"Failed\""
   ],
   "id": "3d4a5826635d7ab2"
  },
  {
   "metadata": {
    "id": "e57cd18fd1e345cd",
    "colab": {
     "base_uri": "https://localhost:8080/"
    },
    "executionInfo": {
     "status": "ok",
     "timestamp": 1746407429486,
     "user_tz": -600,
     "elapsed": 67,
     "user": {
      "displayName": "Phuc Minh Son Nguyen",
      "userId": "13821617769224177453"
     }
    },
    "outputId": "0152ae6b-8e91-4741-9392-07ec07612895"
   },
   "cell_type": "code",
   "outputs": [
    {
     "output_type": "stream",
     "name": "stdout",
     "text": [
      "Failed\n"
     ]
    }
   ],
   "execution_count": 118,
   "source": [
    "text_1 = (\n",
    "    \"\"\"Hello Daniel,\n",
    "\n",
    "Thank you so much for taking the time to apply for the Graduate Software Engineer (Backend / Frontend) - ANZ position for our Launchpad program at Canva.\n",
    "\n",
    "Our Launchpad program has been designed for folks in their final year, or have recently graduated, so unfortunately, we won't be moving forward with your application this time.\n",
    "\n",
    "We know it takes time and energy to submit an application, so we appreciate this news may be a bit disappointing. But even though it's not a match this time, that doesn’t mean there won’t be another opportunity with us that's even better suited to your unique set of skills and talents, in the future.\n",
    "\n",
    "This may not be the end of the road for us and we’d love you to keep an eye out for other positions you might be interested in. In the meantime, why not follow us on our socials to find out more about what it’s like to work at Canva.\"\"\"\n",
    ")\n",
    "\n",
    "print(classify_email(\n",
    "    text_1, model, tokenizer, device, max_length=train_dataset.max_length\n",
    "))"
   ],
   "id": "e57cd18fd1e345cd"
  },
  {
   "metadata": {
    "id": "14cc54f7cc7d066f",
    "colab": {
     "base_uri": "https://localhost:8080/"
    },
    "executionInfo": {
     "status": "ok",
     "timestamp": 1746407469729,
     "user_tz": -600,
     "elapsed": 72,
     "user": {
      "displayName": "Phuc Minh Son Nguyen",
      "userId": "13821617769224177453"
     }
    },
    "outputId": "e487b238-61da-4254-8371-13054bd39feb"
   },
   "cell_type": "code",
   "outputs": [
    {
     "output_type": "stream",
     "name": "stdout",
     "text": [
      "Passed\n"
     ]
    }
   ],
   "execution_count": 122,
   "source": [
    "text_2 = (\n",
    "    \"\"\"Hello Daniel,\n",
    "\n",
    "Thank you for applying for the Graduate Software Engineer (Backend / Frontend) - ANZ position at Canva.\n",
    "\n",
    "We’re pleased to let you know that you’ve progressed to the next stage of our Launchpad program. We’ll be in touch shortly with the next steps.\n",
    "\n",
    "Congratulations!\n",
    "\n",
    "Best regards,\n",
    "The Canva Team\n",
    "\"\"\"\n",
    ")\n",
    "\n",
    "print(classify_email(\n",
    "    text_2, model, tokenizer, device, max_length=train_dataset.max_length\n",
    "))"
   ],
   "id": "14cc54f7cc7d066f"
  },
  {
   "metadata": {
    "id": "990e03a42fa7f2cd",
    "executionInfo": {
     "status": "ok",
     "timestamp": 1746407436147,
     "user_tz": -600,
     "elapsed": 3585,
     "user": {
      "displayName": "Phuc Minh Son Nguyen",
      "userId": "13821617769224177453"
     }
    }
   },
   "cell_type": "code",
   "outputs": [],
   "execution_count": 120,
   "source": [
    "torch.save(model.state_dict(), \"interview_email_classifier.pth\")"
   ],
   "id": "990e03a42fa7f2cd"
  },
  {
   "metadata": {
    "id": "d130f637d6fb438f",
    "colab": {
     "base_uri": "https://localhost:8080/"
    },
    "executionInfo": {
     "status": "ok",
     "timestamp": 1746407439160,
     "user_tz": -600,
     "elapsed": 797,
     "user": {
      "displayName": "Phuc Minh Son Nguyen",
      "userId": "13821617769224177453"
     }
    },
    "outputId": "39d6c53b-e2f7-4e95-dcb5-e98d522717bf"
   },
   "cell_type": "code",
   "outputs": [
    {
     "output_type": "execute_result",
     "data": {
      "text/plain": [
       "<All keys matched successfully>"
      ]
     },
     "metadata": {},
     "execution_count": 121
    }
   ],
   "execution_count": 121,
   "source": [
    "model_state_dict = torch.load(\"interview_email_classifier.pth\", map_location=device, weights_only=True)\n",
    "model.load_state_dict(model_state_dict)"
   ],
   "id": "d130f637d6fb438f"
  }
 ],
 "metadata": {
  "kernelspec": {
   "display_name": "Python 3",
   "name": "python3"
  },
  "language_info": {
   "codemirror_mode": {
    "name": "ipython",
    "version": 2
   },
   "file_extension": ".py",
   "mimetype": "text/x-python",
   "name": "python",
   "nbconvert_exporter": "python",
   "pygments_lexer": "ipython2",
   "version": "2.7.6"
  },
  "colab": {
   "provenance": [],
   "gpuType": "T4"
  },
  "accelerator": "GPU"
 },
 "nbformat": 4,
 "nbformat_minor": 5
}
